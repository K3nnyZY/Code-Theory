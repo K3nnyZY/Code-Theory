{
 "cells": [
  {
   "cell_type": "markdown",
   "metadata": {},
   "source": [
    "# CÓDIGO ISIN"
   ]
  },
  {
   "cell_type": "code",
   "execution_count": 1,
   "metadata": {},
   "outputs": [],
   "source": [
    "def sum_digits(number):\n",
    "    return sum(int(digit) for digit in str(number))\n",
    "\n",
    "def letter_to_value(l):\n",
    "    return ord(l.upper()) - 55 if l.isalpha() else int(l)"
   ]
  },
  {
   "cell_type": "code",
   "execution_count": 2,
   "metadata": {},
   "outputs": [],
   "source": [
    "def validate_isin(isin_code):\n",
    "    numeric_values = []  \n",
    "\n",
    "    for char in isin_code:\n",
    "        if char.isdigit():\n",
    "            numeric_values.append(int(char))\n",
    "        else:   \n",
    "            numeric_value = letter_to_value(char)\n",
    "            if numeric_value > 9:\n",
    "                numeric_values.extend(int(i) for i in str(numeric_value))\n",
    "            else:\n",
    "                numeric_values.append(int(numeric_value))\n",
    "\n",
    "    double_numeric_values = [sum_digits(numeric_values[i] * 2) if i % 2 == 0 and numeric_values[i] * 2 > 9 else\n",
    "                       numeric_values[i] * 2 if i % 2 == 0 else numeric_values[i] for i in range(len(numeric_values))]\n",
    "    \n",
    "    numeric_value = sum(double_numeric_values)\n",
    "    validation = \"Not Validate ISIN\" if numeric_value % 10 != 0 else \"Validate ISIN\"\n",
    "\n",
    "    return numeric_values, double_numeric_values, numeric_value, validation\n",
    "\n",
    "\n",
    "def control_digit(isin_code):\n",
    "    \n",
    "    x_values = {sum(int(x) for x in str(2*i)): i for i in range(1,10)}\n",
    "\n",
    "    has_x = 'X' in isin_code or 'x' in isin_code\n",
    "    x = isin_code.upper().find('X')\n",
    "    \n",
    "    modified_isin_code = isin_code.replace('X', '0').replace('x', '0')\n",
    "    numeric_values, double_numeric_values, numeric_value, _ = validate_isin(modified_isin_code)\n",
    "    numeric_values[x+2], double_numeric_values[x+2] = 'X', 'X' if x % 2 == 0 else 'X'\n",
    "\n",
    "    calculated_digit = (10 - numeric_value % 10) % 10\n",
    "\n",
    "    if x % 2 == 0:\n",
    "        digit = x_values[calculated_digit]\n",
    "    else:\n",
    "        digit = calculated_digit\n",
    "\n",
    "    complete_isin = list(isin_code)\n",
    "    if has_x:\n",
    "        complete_isin[x] = str(digit)\n",
    "    else:\n",
    "        complete_isin.append(str(digit))\n",
    "\n",
    "    complete_isin = ''.join(complete_isin)\n",
    "\n",
    "    return numeric_values, double_numeric_values, numeric_value, digit, complete_isin"
   ]
  },
  {
   "cell_type": "markdown",
   "metadata": {},
   "source": [
    "### Punto 1"
   ]
  },
  {
   "cell_type": "code",
   "execution_count": 3,
   "metadata": {},
   "outputs": [
    {
     "name": "stdout",
     "output_type": "stream",
     "text": [
      "ISIN Code: US7960502018\n",
      "Generated numeric values: [3, 0, 2, 8, 7, 9, 6, 0, 5, 0, 2, 0, 1, 8]\n",
      "Operated numeric values: [6, 0, 4, 8, 5, 9, 3, 0, 1, 0, 4, 0, 2, 8]\n",
      "Sum of operated numeric values: 50\n",
      "Validation: Validate ISIN\n"
     ]
    }
   ],
   "source": [
    "# Aplicamos la función al ISIN proporcionado\n",
    "isin_example = \"US7960502018\"\n",
    "numeric_values, double_numeric_values, numeric_value, validation = validate_isin(isin_example) \n",
    "\n",
    "print(f\"ISIN Code: {isin_example}\")\n",
    "print(f\"Generated numeric values: {numeric_values}\")\n",
    "print(f\"Operated numeric values: {double_numeric_values}\")\n",
    "print(f\"Sum of operated numeric values: {numeric_value}\")\n",
    "print(f\"Validation: {validation}\")"
   ]
  },
  {
   "cell_type": "markdown",
   "metadata": {},
   "source": [
    "### Punto 2"
   ]
  },
  {
   "cell_type": "code",
   "execution_count": 4,
   "metadata": {},
   "outputs": [],
   "source": [
    "# Aplicamos la función al ISIN proporcionado\n",
    "isin_example = \"LU20273749X7\"\n",
    "numeric_values, double_numeric_values, numeric_value, digit, complete_isin = control_digit(isin_example)"
   ]
  },
  {
   "cell_type": "code",
   "execution_count": 5,
   "metadata": {},
   "outputs": [
    {
     "name": "stdout",
     "output_type": "stream",
     "text": [
      "ISIN Code: LU20273749X7\n",
      "Generated numeric values: [2, 1, 3, 0, 2, 0, 2, 7, 3, 7, 4, 9, 'X', 7]\n",
      "Operated numeric values: [4, 1, 6, 0, 4, 0, 4, 7, 6, 7, 8, 9, 'X', 7]\n",
      "Sum of operated numeric values: 63\n",
      "Control digit X: 8\n",
      "New generated ISIN: LU2027374987\n"
     ]
    }
   ],
   "source": [
    "print(f\"ISIN Code: {isin_example}\")\n",
    "print(f\"Generated numeric values: {numeric_values}\")\n",
    "print(f\"Operated numeric values: {double_numeric_values}\")\n",
    "print(f\"Sum of operated numeric values: {numeric_value}\")\n",
    "print(f\"Control digit X: {digit}\")\n",
    "print(f\"New generated ISIN: {complete_isin}\")"
   ]
  },
  {
   "cell_type": "markdown",
   "metadata": {},
   "source": [
    "# EAN-13"
   ]
  },
  {
   "cell_type": "code",
   "execution_count": 6,
   "metadata": {},
   "outputs": [],
   "source": [
    "def EAN13(isin):\n",
    "\n",
    "    numeric_values = []  # Para almacenar los valores numéricos del codigo ISIN\n",
    "\n",
    "    # Convertir cada caracter del ISIN a su valor numérico y aplicar la regla de duplicar cada segundo número empezando desde la derecha.\n",
    "    for char in isin:\n",
    "        if char.isdigit():\n",
    "            numeric_values.append(int(char))\n",
    "        else:   \n",
    "            numeric_value = letter_to_value(char)\n",
    "\n",
    "    # Duplicar cada segundo número empezando desde la derecha y suma los dígitos de los números mayores a 9\n",
    "    triple_values = [numeric_values[i] * 3 if i % 2 == 1 else numeric_values[i] for i in range(len(numeric_values))]\n",
    "    \n",
    "    # Sumar todos los valores numéricos\n",
    "    numeric_value = sum(triple_values)\n",
    "\n",
    "    is_valid_isin = numeric_value % 10 == 0\n",
    "\n",
    "    # Si la suma total no es un múltiplo de 10, buscar la cifra de control.\n",
    "    control_digit = None\n",
    "    if not is_valid_isin:\n",
    "        for x in range(10):\n",
    "            if (numeric_value + x) % 10 == 0:\n",
    "                control_digit = x\n",
    "                break\n",
    "\n",
    "    return numeric_values, triple_values, numeric_value, is_valid_isin, control_digit"
   ]
  },
  {
   "cell_type": "code",
   "execution_count": 7,
   "metadata": {},
   "outputs": [],
   "source": [
    "EAN13_example = \"490277891397X\"[:-1]\n",
    "numeric_values, triple_values, numeric_value, validate_isin, control_digit = EAN13(EAN13_example)"
   ]
  },
  {
   "cell_type": "code",
   "execution_count": 8,
   "metadata": {},
   "outputs": [
    {
     "name": "stdout",
     "output_type": "stream",
     "text": [
      "EAN13: 490277891397\n",
      "EL valor numero de la EAN13: [4, 9, 0, 2, 7, 7, 8, 9, 1, 3, 9, 7]\n",
      "Valor calculado numerico de la EAN13: [4, 27, 0, 6, 7, 21, 8, 27, 1, 9, 9, 21]\n",
      "Suma de los valores numericos de la EAN13 es: 140\n",
      "Validación de EAN13: True\n",
      "Cifra de control de la EAN13 X es: None\n"
     ]
    }
   ],
   "source": [
    "print(f\"EAN13: {EAN13_example}\")\n",
    "print(f\"EL valor numero de la EAN13: {numeric_values}\")\n",
    "print(f\"Valor calculado numerico de la EAN13: {triple_values}\")\n",
    "print(f\"Suma de los valores numericos de la EAN13 es: {numeric_value}\")\n",
    "print(f\"Validación de EAN13: {validate_isin}\")\n",
    "print(f\"Cifra de control de la EAN13 X es: {control_digit}\")"
   ]
  },
  {
   "cell_type": "code",
   "execution_count": 9,
   "metadata": {},
   "outputs": [],
   "source": [
    "EAN13_example1 = \"780389328012X\"\n",
    "numeric_values, triple_values, numeric_value, validate_isin, control_digit = EAN13(EAN13_example1)"
   ]
  },
  {
   "cell_type": "code",
   "execution_count": 10,
   "metadata": {},
   "outputs": [
    {
     "name": "stdout",
     "output_type": "stream",
     "text": [
      "EAN13: 780389328012X\n",
      "EL valor numero de la EAN13: [7, 8, 0, 3, 8, 9, 3, 2, 8, 0, 1, 2]\n",
      "Valor calculado numerico de la EAN13: [7, 24, 0, 9, 8, 27, 3, 6, 8, 0, 1, 6]\n",
      "Suma de los valores numericos de la EAN13 es: 99\n",
      "Validación de EAN13: False\n",
      "Cifra de control de la EAN13 X es: 1\n"
     ]
    }
   ],
   "source": [
    "print(f\"EAN13: {EAN13_example1}\")\n",
    "print(f\"EL valor numero de la EAN13: {numeric_values}\")\n",
    "print(f\"Valor calculado numerico de la EAN13: {triple_values}\")\n",
    "print(f\"Suma de los valores numericos de la EAN13 es: {numeric_value}\")\n",
    "print(f\"Validación de EAN13: {validate_isin}\")\n",
    "print(f\"Cifra de control de la EAN13 X es: {control_digit}\")"
   ]
  }
 ],
 "metadata": {
  "kernelspec": {
   "display_name": "Python 3",
   "language": "python",
   "name": "python3"
  },
  "language_info": {
   "codemirror_mode": {
    "name": "ipython",
    "version": 3
   },
   "file_extension": ".py",
   "mimetype": "text/x-python",
   "name": "python",
   "nbconvert_exporter": "python",
   "pygments_lexer": "ipython3",
   "version": "3.11.2"
  }
 },
 "nbformat": 4,
 "nbformat_minor": 2
}
