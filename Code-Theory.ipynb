{
 "cells": [
  {
   "cell_type": "markdown",
   "metadata": {},
   "source": [
    "# CODE THEORY\n",
    "**Integrant:** Kenny Zhu Ye, Yovany Zhu Ye\n",
    "- ISIN CODE\n",
    "- EAN CODE\n",
    "- ISBN CODE"
   ]
  },
  {
   "cell_type": "markdown",
   "metadata": {},
   "source": [
    "## SUPPORT FUNCTION"
   ]
  },
  {
   "cell_type": "code",
   "execution_count": 536,
   "metadata": {},
   "outputs": [],
   "source": [
    "def letter_to_value(l):\n",
    "    return ord(l.upper()) - 55 if l.isalpha() else int(l)\n",
    "\n",
    "def generate_code(code):\n",
    "    numeric_values = []\n",
    "    for char in code:\n",
    "        if char.isdigit():\n",
    "            numeric_values.append(int(char))\n",
    "        else:   \n",
    "            numeric_value = letter_to_value(char)\n",
    "            if numeric_value > 9:\n",
    "                numeric_values.extend(int(i) for i in str(numeric_value))\n",
    "            else:\n",
    "                numeric_values.append(int(numeric_value))\n",
    "    return numeric_values"
   ]
  },
  {
   "cell_type": "markdown",
   "metadata": {},
   "source": [
    "## ISIN CODE"
   ]
  },
  {
   "cell_type": "code",
   "execution_count": 537,
   "metadata": {},
   "outputs": [],
   "source": [
    "def validate_isin(isin_code):\n",
    "\n",
    "    validation = \"invalid ISIN\" \n",
    "    control_digit = None\n",
    "    new_isin_code = isin_code\n",
    "\n",
    "    if len(isin_code) == 12:\n",
    "        isin_code_process = isin_code[:-1] if isin_code[-1].isalpha() else isin_code\n",
    "        numeric_values = generate_code(isin_code_process)\n",
    "        double_numeric_values = [sum(int(digit) for digit in str(numeric_values[i] * 2)) if i % 2 == 0 and numeric_values[i] * 2 > 9\n",
    "                    else numeric_values[i] * 2 if i % 2 == 0 else numeric_values[i] for i in range(len(numeric_values))]\n",
    "        \n",
    "        numeric_value = sum(double_numeric_values)\n",
    "\n",
    "        if isin_code[-1].isdigit():\n",
    "            control_digit = isin_code[-1]\n",
    "            validation = \"invalid ISIN\" if numeric_value % 10 != 0 else \"valid ISIN\"\n",
    "        else:\n",
    "            control_digit = (10 - numeric_value % 10) % 10\n",
    "            validation = \"valid ISIN\" if numeric_value % 10 == 0 else \"invalid ISIN\"\n",
    "            new_isin_code = isin_code_process + str(control_digit)\n",
    "    else:\n",
    "        numeric_values = numeric_value = double_numeric_values = control_digit = new_isin_code = validation = 'invalid ISIN'\n",
    "\n",
    "    return numeric_values, double_numeric_values, numeric_value, validation, control_digit, new_isin_code\n",
    "\n",
    "\n",
    "def found_x(isin_code):\n",
    "    x_values = {sum(int(x) for x in str(2*i)): i for i in range(1, 10)}\n",
    "\n",
    "    if isin_code[2:]:\n",
    "        has_x = 'X' in isin_code[2:] or 'x' in isin_code[2:]\n",
    "        x = isin_code.upper().find('X', 2) \n",
    "\n",
    "        modified_isin_code = isin_code[:2] + isin_code[2:].replace('X', '0').replace('x', '0')\n",
    "        numeric_values, double_numeric_values, numeric_value, _, _, _ = validate_isin(modified_isin_code)\n",
    "        \n",
    "        if x != -1:\n",
    "            numeric_values[x], double_numeric_values[x] = 'X', 'X' if x % 2 == 0 else 'X'\n",
    "            calculated_digit = (10 - numeric_value % 10) % 10\n",
    "            digit = x_values[calculated_digit] if x % 2 == 0 else calculated_digit\n",
    "\n",
    "            complete_isin = list(isin_code)\n",
    "            complete_isin[x] = str(digit) if has_x else complete_isin.append\n",
    "            complete_isin = ''.join(complete_isin)\n",
    "            \n",
    "        else:\n",
    "            digit = None\n",
    "            complete_isin = isin_code \n",
    "\n",
    "    return numeric_values, double_numeric_values, numeric_value, digit, complete_isin"
   ]
  },
  {
   "cell_type": "markdown",
   "metadata": {},
   "source": [
    "### Vaidate ISIN code"
   ]
  },
  {
   "cell_type": "code",
   "execution_count": 538,
   "metadata": {},
   "outputs": [
    {
     "name": "stdout",
     "output_type": "stream",
     "text": [
      "ISIN Code: US7960502018\n",
      "Generated numeric values: [3, 0, 2, 8, 7, 9, 6, 0, 5, 0, 2, 0, 1, 8]\n",
      "Operated numeric values: [6, 0, 4, 8, 5, 9, 3, 0, 1, 0, 4, 0, 2, 8]\n",
      "Sum of operated numeric values: 50\n",
      "Validation: valid ISIN\n",
      "Control digit: 8\n"
     ]
    }
   ],
   "source": [
    "isin_example = \"US7960502018\"\n",
    "numeric_values, double_numeric_values, numeric_value, validation, control_digit, new_isin_code = validate_isin(isin_example) \n",
    "\n",
    "print(f\"ISIN Code: {isin_example}\")\n",
    "print(f\"Generated numeric values: {numeric_values}\")\n",
    "print(f\"Operated numeric values: {double_numeric_values}\")\n",
    "print(f\"Sum of operated numeric values: {numeric_value}\")\n",
    "print(f\"Validation: {validation}\")\n",
    "print(f\"Control digit: {control_digit}\")"
   ]
  },
  {
   "cell_type": "markdown",
   "metadata": {},
   "source": [
    "### Control digit"
   ]
  },
  {
   "cell_type": "code",
   "execution_count": 539,
   "metadata": {},
   "outputs": [
    {
     "name": "stdout",
     "output_type": "stream",
     "text": [
      "ISIN Code: NL001158514X\n",
      "Generated numeric values: [2, 3, 2, 1, 0, 0, 1, 1, 5, 8, 5, 1, 4]\n",
      "Operated numeric values: [4, 3, 4, 1, 0, 0, 2, 1, 1, 8, 1, 1, 8]\n",
      "Sum of operated numeric values: 34\n",
      "Validation: invalid ISIN\n",
      "Control digit: 6\n",
      "New ISIN Code: NL0011585146\n"
     ]
    }
   ],
   "source": [
    "isin_example = \"NL001158514X\"\n",
    "numeric_values, double_numeric_values, numeric_value, validation, control_digit, new_isin_code = validate_isin(isin_example) \n",
    "\n",
    "print(f\"ISIN Code: {isin_example}\")\n",
    "print(f\"Generated numeric values: {numeric_values}\")\n",
    "print(f\"Operated numeric values: {double_numeric_values}\")\n",
    "print(f\"Sum of operated numeric values: {numeric_value}\")\n",
    "print(f\"Validation: {validation}\")\n",
    "print(f\"Control digit: {control_digit}\")\n",
    "print(f\"New ISIN Code: {new_isin_code}\")"
   ]
  },
  {
   "cell_type": "markdown",
   "metadata": {},
   "source": [
    "### Find X"
   ]
  },
  {
   "cell_type": "code",
   "execution_count": 540,
   "metadata": {},
   "outputs": [],
   "source": [
    "isin_example = \"MX20273749X7\"\n",
    "numeric_values, double_numeric_values, numeric_value, digit, complete_isin = found_x(isin_example)"
   ]
  },
  {
   "cell_type": "code",
   "execution_count": 541,
   "metadata": {},
   "outputs": [
    {
     "name": "stdout",
     "output_type": "stream",
     "text": [
      "ISIN Code: MX20273749X7\n",
      "Generated numeric values: [2, 2, 3, 3, 2, 0, 2, 7, 3, 7, 'X', 9, 0, 7]\n",
      "Operated numeric values: [4, 2, 6, 3, 4, 0, 4, 7, 6, 7, 'X', 9, 0, 7]\n",
      "Sum of operated numeric values: 67\n",
      "The digit to replace X: 6\n",
      "New generated ISIN: MX2027374967\n"
     ]
    }
   ],
   "source": [
    "print(f\"ISIN Code: {isin_example}\")\n",
    "print(f\"Generated numeric values: {numeric_values}\")\n",
    "print(f\"Operated numeric values: {double_numeric_values}\")\n",
    "print(f\"Sum of operated numeric values: {numeric_value}\")\n",
    "print(f\"The digit to replace X: {digit}\")\n",
    "print(f\"New generated ISIN: {complete_isin}\")"
   ]
  },
  {
   "cell_type": "markdown",
   "metadata": {},
   "source": [
    "## EAN-13 CODE"
   ]
  },
  {
   "cell_type": "code",
   "execution_count": 542,
   "metadata": {},
   "outputs": [],
   "source": [
    "def EAN13_validate(EAN13_code):\n",
    "\n",
    "    validation = 'invalid EAN13'\n",
    "    control_digit = None\n",
    "    new_ean13_code = EAN13_code\n",
    "\n",
    "    if len(EAN13_code) == 13:\n",
    "        EAN13_code_process = EAN13_code[:-1] if EAN13_code[-1].isalpha() else EAN13_code\n",
    "        numeric_values = generate_code(EAN13_code_process)\n",
    "        triple_values = [numeric_values[i] * 3 if i % 2 == 1 else numeric_values[i] for i in range(len(numeric_values))]\n",
    "\n",
    "        numeric_value = sum(triple_values)\n",
    "\n",
    "        if EAN13_code[-1].isdigit():\n",
    "            control_digit = EAN13_code[-1]\n",
    "            validation = \"invalid EAN13\" if numeric_value % 10 != 0 else \"valid EAN13\"\n",
    "        else:\n",
    "            control_digit = (10 - numeric_value % 10) % 10\n",
    "            validation = \"valid EAN13\" if numeric_value % 10 == 0 else \"invalid EAN13\"\n",
    "            new_ean13_code = EAN13_code_process + str(control_digit)\n",
    "    else:\n",
    "        numeric_values = triple_values = numeric_value = control_digit = new_ean13_code = validation = 'invalid EAN13'\n",
    "\n",
    "    return numeric_values, triple_values, numeric_value, validation, control_digit, new_ean13_code\n",
    "\n",
    "\n",
    "def found_x(EAN13_code):\n",
    "    \n",
    "    x = EAN13_code.upper().find('X')\n",
    "    print(x)\n",
    "    modified_EAN13_code = EAN13_code.upper().replace('X', '0').replace('x', '0')\n",
    "    numeric_values, triple_values, numeric_value, _, _, _ = EAN13_validate(modified_EAN13_code)\n",
    "    numeric_values[x], triple_values[x] = 'X', 'X' if x % 2 == 0 else 'X'\n",
    "\n",
    "    for digit in range(10):\n",
    "        test_code = EAN13_code.upper().replace('X', str(digit))\n",
    "        _, _, _, validation, _, _ = EAN13_validate(test_code)\n",
    "        if validation == \"valid EAN13\":\n",
    "            x_digit = digit\n",
    "    \n",
    "    complete_EAN13 = EAN13_code.upper().replace('X', str(x_digit))\n",
    "    \n",
    "    return numeric_values, triple_values, numeric_value, x_digit, complete_EAN13"
   ]
  },
  {
   "cell_type": "markdown",
   "metadata": {},
   "source": [
    "### validate EAN-13 code"
   ]
  },
  {
   "cell_type": "code",
   "execution_count": 543,
   "metadata": {},
   "outputs": [],
   "source": [
    "EAN13_example = \"4902778913970\"\n",
    "numeric_values, triple_values, numeric_value, validate_EAN13, control_digit, new_ean13_code = EAN13_validate(EAN13_example)"
   ]
  },
  {
   "cell_type": "code",
   "execution_count": 544,
   "metadata": {},
   "outputs": [
    {
     "name": "stdout",
     "output_type": "stream",
     "text": [
      "EAN13 Code: 4902778913970\n",
      "Generated numeric values: [4, 9, 0, 2, 7, 7, 8, 9, 1, 3, 9, 7, 0]\n",
      "Operated numeric values: [4, 27, 0, 6, 7, 21, 8, 27, 1, 9, 9, 21, 0]\n",
      "Sum of operated numeric values: 140\n",
      "Validation: valid EAN13\n",
      "Control digit: 0\n"
     ]
    }
   ],
   "source": [
    "print(f\"EAN13 Code: {EAN13_example}\")\n",
    "print(f\"Generated numeric values: {numeric_values}\")\n",
    "print(f\"Operated numeric values: {triple_values}\")\n",
    "print(f\"Sum of operated numeric values: {numeric_value}\")\n",
    "print(f\"Validation: {validate_EAN13}\")\n",
    "print(f\"Control digit: {control_digit}\")"
   ]
  },
  {
   "cell_type": "markdown",
   "metadata": {},
   "source": [
    "### Control digit"
   ]
  },
  {
   "cell_type": "code",
   "execution_count": 545,
   "metadata": {},
   "outputs": [],
   "source": [
    "EAN13_example1 = \"780389328012X\"\n",
    "numeric_values1, triple_values, numeric_value, validate_EAN13, control_digit, new_ean13_code = EAN13_validate(EAN13_example1)   "
   ]
  },
  {
   "cell_type": "code",
   "execution_count": 546,
   "metadata": {},
   "outputs": [
    {
     "name": "stdout",
     "output_type": "stream",
     "text": [
      "EAN13 Code: 780389328012X\n",
      "Generated numeric values: [7, 8, 0, 3, 8, 9, 3, 2, 8, 0, 1, 2]\n",
      "Operated numeric values: [7, 24, 0, 9, 8, 27, 3, 6, 8, 0, 1, 6]\n",
      "Sum of operated numeric values: 99\n",
      "Validation: invalid EAN13\n",
      "Control digit X: 1\n",
      "New generated EAN13: 7803893280121\n"
     ]
    }
   ],
   "source": [
    "print(f\"EAN13 Code: {EAN13_example1}\")\n",
    "print(f\"Generated numeric values: {numeric_values1}\")\n",
    "print(f\"Operated numeric values: {triple_values}\")  \n",
    "print(f\"Sum of operated numeric values: {numeric_value}\")\n",
    "print(f\"Validation: {validate_EAN13}\")\n",
    "print(f\"Control digit X: {control_digit}\")\n",
    "print(f\"New generated EAN13: {new_ean13_code}\")"
   ]
  },
  {
   "cell_type": "code",
   "execution_count": 547,
   "metadata": {},
   "outputs": [],
   "source": [
    "EAN13_example2 = \"7590167890234X\"\n",
    "numeric_values, triple_values, numeric_value, validate_EAN13, control_digit, new_ean13_code = EAN13_validate(EAN13_example2)   "
   ]
  },
  {
   "cell_type": "code",
   "execution_count": 548,
   "metadata": {},
   "outputs": [
    {
     "name": "stdout",
     "output_type": "stream",
     "text": [
      "EAN13 Code: 7590167890234X\n",
      "Generated numeric values: invalid EAN13\n",
      "Operated numeric values: invalid EAN13\n",
      "Sum of operated numeric values: invalid EAN13\n",
      "Validation: invalid EAN13\n",
      "Control digit X: invalid EAN13\n",
      "New generated EAN13: invalid EAN13\n"
     ]
    }
   ],
   "source": [
    "print(f\"EAN13 Code: {EAN13_example2}\")\n",
    "print(f\"Generated numeric values: {numeric_values}\")\n",
    "print(f\"Operated numeric values: {triple_values}\")\n",
    "print(f\"Sum of operated numeric values: {numeric_value}\")\n",
    "print(f\"Validation: {validate_EAN13}\")\n",
    "print(f\"Control digit X: {control_digit}\")\n",
    "print(f\"New generated EAN13: {new_ean13_code}\")"
   ]
  },
  {
   "cell_type": "markdown",
   "metadata": {},
   "source": [
    "### found X "
   ]
  },
  {
   "cell_type": "code",
   "execution_count": 549,
   "metadata": {},
   "outputs": [
    {
     "name": "stdout",
     "output_type": "stream",
     "text": [
      "3\n"
     ]
    }
   ],
   "source": [
    "EAN13_example3 = '843x554161789'\n",
    "numeric_values, triple_values, numeric_value, calculated_digit, complete_EAN13 = found_x(EAN13_example3)"
   ]
  },
  {
   "cell_type": "code",
   "execution_count": 550,
   "metadata": {},
   "outputs": [
    {
     "name": "stdout",
     "output_type": "stream",
     "text": [
      "EAN13 Code: 843x554161789\n",
      "Generated numeric values: [8, 4, 3, 'X', 5, 5, 4, 1, 6, 1, 7, 8, 9]\n",
      "Operated numeric values: [8, 12, 3, 'X', 5, 15, 4, 3, 6, 3, 7, 24, 9]\n",
      "Sum of operated numeric values: 99\n",
      "The digit to replace X: 7\n",
      "New generated EAN13: 8437554161789\n"
     ]
    }
   ],
   "source": [
    "print(f\"EAN13 Code: {EAN13_example3}\")  \n",
    "print(f\"Generated numeric values: {numeric_values}\")\n",
    "print(f\"Operated numeric values: {triple_values}\")\n",
    "print(f\"Sum of operated numeric values: {numeric_value}\")\n",
    "print(f\"The digit to replace X: {calculated_digit}\")\n",
    "print(f\"New generated EAN13: {complete_EAN13}\")"
   ]
  },
  {
   "cell_type": "code",
   "execution_count": 551,
   "metadata": {},
   "outputs": [
    {
     "name": "stdout",
     "output_type": "stream",
     "text": [
      "10\n"
     ]
    }
   ],
   "source": [
    "EAN13_example4 = '5725351455x67'\n",
    "numeric_values, triple_values, numeric_value, calculated_digit, complete_EAN13 = found_x(EAN13_example4)"
   ]
  },
  {
   "cell_type": "code",
   "execution_count": 552,
   "metadata": {},
   "outputs": [
    {
     "name": "stdout",
     "output_type": "stream",
     "text": [
      "EAN13 Code: 5725351455x67\n",
      "Generated numeric values: [5, 7, 2, 5, 3, 5, 1, 4, 5, 5, 'X', 6, 7]\n",
      "Operated numeric values: [5, 21, 2, 15, 3, 15, 1, 12, 5, 15, 'X', 18, 7]\n",
      "Sum of operated numeric values: 119\n",
      "The digit to replace X: 1\n",
      "New generated EAN13: 5725351455167\n"
     ]
    }
   ],
   "source": [
    "print(f\"EAN13 Code: {EAN13_example4}\")\n",
    "print(f\"Generated numeric values: {numeric_values}\")\n",
    "print(f\"Operated numeric values: {triple_values}\")\n",
    "print(f\"Sum of operated numeric values: {numeric_value}\")\n",
    "print(f\"The digit to replace X: {calculated_digit}\")\n",
    "print(f\"New generated EAN13: {complete_EAN13}\")"
   ]
  }
 ],
 "metadata": {
  "kernelspec": {
   "display_name": "Python 3",
   "language": "python",
   "name": "python3"
  },
  "language_info": {
   "codemirror_mode": {
    "name": "ipython",
    "version": 3
   },
   "file_extension": ".py",
   "mimetype": "text/x-python",
   "name": "python",
   "nbconvert_exporter": "python",
   "pygments_lexer": "ipython3",
   "version": "3.11.2"
  }
 },
 "nbformat": 4,
 "nbformat_minor": 2
}
