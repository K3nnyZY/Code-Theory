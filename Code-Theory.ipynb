{
 "cells": [
  {
   "cell_type": "markdown",
   "metadata": {},
   "source": [
    "# CODE THEORY\n",
    "**Integrant:** Kenny Zhu Ye, Yovany Zhu Ye\n",
    "- ISIN CODE\n",
    "- EAN CODE\n",
    "- ISBN CODE"
   ]
  },
  {
   "cell_type": "markdown",
   "metadata": {},
   "source": [
    "## SUPPORT FUNCTION"
   ]
  },
  {
   "cell_type": "code",
   "execution_count": 392,
   "metadata": {},
   "outputs": [],
   "source": [
    "def letter_to_value(l):\n",
    "    return ord(l.upper()) - 55 if l.isalpha() else int(l)\n",
    "\n",
    "def generate_code(code):\n",
    "    numeric_values = []\n",
    "    for char in code:\n",
    "        if char.isdigit():\n",
    "            numeric_values.append(int(char))\n",
    "        else:   \n",
    "            numeric_value = letter_to_value(char)\n",
    "            if numeric_value > 9:\n",
    "                numeric_values.extend(int(i) for i in str(numeric_value))\n",
    "            else:\n",
    "                numeric_values.append(int(numeric_value))\n",
    "    return numeric_values"
   ]
  },
  {
   "cell_type": "markdown",
   "metadata": {},
   "source": [
    "## ISIN CODE"
   ]
  },
  {
   "cell_type": "code",
   "execution_count": 393,
   "metadata": {},
   "outputs": [],
   "source": [
    "def validate_isin(isin_code):\n",
    "\n",
    "    validation = \"invalid ISIN\" \n",
    "    control_digit = None\n",
    "    new_isin_code = isin_code\n",
    "\n",
    "    if len(isin_code) == 12:\n",
    "        isin_code_process = isin_code[:-1] if isin_code[-1].isalpha() else isin_code\n",
    "        numeric_values = generate_code(isin_code_process)\n",
    "        double_numeric_values = [sum(int(digit) for digit in str(numeric_values[i] * 2)) if i % 2 == 0 and numeric_values[i] * 2 > 9\n",
    "                    else numeric_values[i] * 2 if i % 2 == 0 else numeric_values[i] for i in range(len(numeric_values))]\n",
    "        \n",
    "        numeric_value = sum(double_numeric_values)\n",
    "\n",
    "        if isin_code[-1].isdigit():\n",
    "            control_digit = isin_code[-1]\n",
    "            validation = \"invalid ISIN\" if numeric_value % 10 != 0 else \"valid ISIN\"\n",
    "        else:\n",
    "            control_digit = (10 - numeric_value % 10) % 10\n",
    "            validation = \"valid ISIN\" if numeric_value % 10 == 0 else \"invalid ISIN\"\n",
    "            new_isin_code = isin_code_process + str(control_digit)\n",
    "    else:\n",
    "        numeric_values = numeric_value = double_numeric_values = control_digit = new_isin_code = validation = 'invalid ISIN'\n",
    "\n",
    "    return numeric_values, double_numeric_values, numeric_value, validation, control_digit, new_isin_code\n",
    "\n",
    "\n",
    "def found_x_isin(isin_code):\n",
    "    \n",
    "    if len(isin_code) == 12:\n",
    "        x_values = {sum(int(x) for x in str(2*i)): i for i in range(1, 10)}\n",
    "\n",
    "        if isin_code[2:]:\n",
    "            has_x = 'X' in isin_code[2:] or 'x' in isin_code[2:]\n",
    "            x = isin_code.upper().find('X', 2) \n",
    "\n",
    "            modified_isin_code = isin_code[:2] + isin_code[2:].replace('X', '0').replace('x', '0')\n",
    "            numeric_values, double_numeric_values, numeric_value, _, _, _ = validate_isin(modified_isin_code)\n",
    "            \n",
    "            if x != -1:\n",
    "                numeric_values[x], double_numeric_values[x] = 'X', 'X' if x % 2 == 0 else 'X'\n",
    "                calculated_digit = (10 - numeric_value % 10) % 10\n",
    "                digit = x_values[calculated_digit] if x % 2 == 0 else calculated_digit\n",
    "\n",
    "                complete_isin = list(isin_code)\n",
    "                complete_isin[x] = str(digit) if has_x else complete_isin.append\n",
    "                complete_isin = ''.join(complete_isin)\n",
    "                \n",
    "            else:\n",
    "                digit = None\n",
    "                complete_isin = isin_code \n",
    "        else:\n",
    "            numeric_values, double_numeric_values, numeric_value, digit, complete_isin = 'invalid ISIN', 'invalid ISIN', 'invalid ISIN', 'invalid ISIN', 'invalid ISIN'\n",
    "\n",
    "    return numeric_values, double_numeric_values, numeric_value, digit, complete_isin"
   ]
  },
  {
   "cell_type": "markdown",
   "metadata": {},
   "source": [
    "## EAN-13 and EAN-8 CODE"
   ]
  },
  {
   "cell_type": "code",
   "execution_count": 394,
   "metadata": {},
   "outputs": [],
   "source": [
    "def validate_EAN(code):        \n",
    "\n",
    "    if len(code) == 13:\n",
    "\n",
    "        code_process = code[:-1] if code[-1].isalpha() else code\n",
    "        numeric_values = generate_code(code_process)\n",
    "        triple_values = [numeric_values[i] * 3 if i % 2 == 1 else numeric_values[i] for i in range(len(numeric_values))]\n",
    "        numeric_value = sum(triple_values)\n",
    "        if code[-1].isdigit():\n",
    "            control_digit = code[-1]\n",
    "            validation = \"invalid EAN13\" if numeric_value % 10 != 0 else \"valid EAN13\"\n",
    "        else:\n",
    "            control_digit = (10 - numeric_value % 10) % 10\n",
    "            validation = \"valid EAN13\" if numeric_value % 10 == 0 else \"invalid EAN13\"\n",
    "            code = code_process + str(control_digit)\n",
    "\n",
    "    elif len(code) == 8:\n",
    "\n",
    "        code_process = code[:-1] if code[-1].isalpha() else code\n",
    "        numeric_values = generate_code(code_process)\n",
    "        triple_values = [numeric_values[i] * 3 if i % 2 == 0 else numeric_values[i] for i in range(len(numeric_values))]\n",
    "        numeric_value = sum(triple_values)\n",
    "        if code[-1].isdigit():\n",
    "            control_digit = code[-1]\n",
    "            validation = \"invalid EAN8\" if numeric_value % 10 != 0 else \"valid EAN8\"\n",
    "        else:\n",
    "            control_digit = (10 - numeric_value % 10) % 10\n",
    "            validation = \"valid EAN8\" if numeric_value % 10 == 0 else \"invalid EAN8\"\n",
    "            code = code_process + str(control_digit)\n",
    "    else:\n",
    "        numeric_values = triple_values = numeric_value = control_digit = validation = code = 'invalid EAN13' if len(code) >= 13 else 'invalid EAN8'\n",
    "\n",
    "    return numeric_values, triple_values, numeric_value, validation, control_digit, code\n",
    "\n",
    "\n",
    "def found_x(EAN_code):\n",
    "    if len(EAN_code) == 13 or len(EAN_code) == 8:\n",
    "        x = EAN_code.upper().find('X')\n",
    "        modified_EAN_code = EAN_code.upper().replace('X', '0')\n",
    "        numeric_values, triple_values, numeric_value, _, _, _ = validate_EAN(modified_EAN_code)\n",
    "\n",
    "        if x != -1:\n",
    "            numeric_values[x], triple_values[x] = 'X', 'X'\n",
    "        \n",
    "        x_digit = None\n",
    "        for digit in range(10):\n",
    "            test_code = EAN_code.upper().replace('X', str(digit))\n",
    "            _, _, _, validation, _, _ = validate_EAN(test_code)\n",
    "            if (len(EAN_code) == 13 and validation == \"valid EAN13\") or (len(EAN_code) == 8 and validation == \"valid EAN8\"):\n",
    "                x_digit = digit\n",
    "                break \n",
    "\n",
    "        complete_EAN_code = EAN_code.upper().replace('X', str(x_digit)) if x_digit is not None else 'Invalid code'\n",
    "    else:\n",
    "        numeric_values = triple_values = numeric_value = x_digit = complete_EAN_code = 'invalid EAN13' if len(EAN_code) >= 13 else 'invalid EAN8'\n",
    "    \n",
    "    return numeric_values, triple_values, numeric_value, x_digit, complete_EAN_code"
   ]
  },
  {
   "cell_type": "markdown",
   "metadata": {},
   "source": [
    "## ISBN-10 and ISBN-13 CODE"
   ]
  },
  {
   "cell_type": "code",
   "execution_count": 395,
   "metadata": {},
   "outputs": [],
   "source": [
    "def isbn(isbn_code):\n",
    "\n",
    "    isbn = isbn_code.replace(\"-\", \"\")\n",
    "    \n",
    "    if len(isbn) == 10 and isbn.isdigit() == True or isbn[-1] == 'X' or isbn[-1] == 'x':\n",
    "\n",
    "        numeric_values = [10 if x == 'X' else int(x) for x in isbn]\n",
    "        operated_values = [(10-i)*numeric_values[i] for i in range(len(numeric_values))]\n",
    "        sum_operated_values = sum(operated_values)\n",
    "        \n",
    "        if isbn[-1] == 'X':\n",
    "            check_digit = 10\n",
    "        else:\n",
    "            check_digit = int(isbn[-1])\n",
    "        \n",
    "        is_valid = (sum_operated_values + check_digit) % 11 == 0\n",
    "        validation = \"valid ISBN-10\" if is_valid else \"invalid ISBN-10\"\n",
    "        \n",
    "    elif len(isbn) == 13 and isbn.isdigit() ==  True:\n",
    "\n",
    "        numeric_values = [int(x) for x in isbn]\n",
    "        operated_values = [3*numeric_values[i] if i % 2 else numeric_values[i] for i in range(len(numeric_values))]\n",
    "        sum_operated_values = sum(operated_values)\n",
    "        \n",
    "        check_digit = int(isbn[-1])\n",
    "        \n",
    "        is_valid = (sum_operated_values + check_digit) % 10 == 0\n",
    "        validation = \"valid ISBN-13\" if is_valid else \"invalid ISBN-13\"\n",
    "    \n",
    "    else:\n",
    "        numeric_values = operated_values = sum_operated_values = check_digit = validation = 'invalid ISBN-10' if len(isbn) == 10 else 'invalid ISBN-13'\n",
    "        \n",
    "    return numeric_values, operated_values , sum_operated_values, validation, check_digit\n",
    "\n",
    "\n",
    "def isbn10_to_isbn13(isbn10):\n",
    "\n",
    "    isbn10 = isbn10.replace(\"-\", \"\")\n",
    "    if len(isbn10) != 10:\n",
    "        return None\n",
    "    \n",
    "    isbn13_body = '978' + isbn10[:-1]\n",
    "\n",
    "    check_sum = 0\n",
    "    for i, digit in enumerate(isbn13_body):\n",
    "        check_sum += int(digit) if i % 2 == 0 else 3 * int(digit)\n",
    "    check_digit = 10 - (check_sum % 10)\n",
    "\n",
    "    if check_digit == 10:\n",
    "        check_digit = 0  \n",
    "\n",
    "    isbn13 = isbn13_body + str(check_digit)\n",
    "    \n",
    "    return isbn13"
   ]
  },
  {
   "cell_type": "markdown",
   "metadata": {},
   "source": [
    "## Main Function to ejecute the code"
   ]
  },
  {
   "cell_type": "code",
   "execution_count": 396,
   "metadata": {},
   "outputs": [],
   "source": [
    "def main_validate(code):\n",
    "    if (len(code) >= 13 and code.find('-') == -1) or len(code) == 8:\n",
    "        numeric_values, triple_values, numeric_value, validation, control_digit, new_ean_code = validate_EAN(code) \n",
    "        print(f\"EAN13 Code: {code}\")\n",
    "        print(f\"Generated numeric values: {numeric_values}\")\n",
    "        print(f\"Operated numeric values: {triple_values}\")\n",
    "        print(f\"Sum of operated numeric values: {numeric_value}\")\n",
    "        print(f\"Validation: {validation}\")\n",
    "        print(f\"Control digit: {control_digit}\")\n",
    "        print(f\"New EAN13 Code: {new_ean_code}\" if len(code) >= 13 else f\"New EAN8 Code: {new_ean_code}\")\n",
    "\n",
    "    if len(code) == 12:\n",
    "        numeric_values, triple_values, numeric_value, validation, control_digit, new_isin_code = validate_isin(code) \n",
    "        print(f\"ISIN Code: {code}\")\n",
    "        print(f\"Generated numeric values: {numeric_values}\")\n",
    "        print(f\"Operated numeric values: {triple_values}\")\n",
    "        print(f\"Sum of operated numeric values: {numeric_value}\")\n",
    "        print(f\"Validation: {validation}\")\n",
    "        print(f\"Control digit: {control_digit}\")\n",
    "        print(f\"New ISIN Code: {new_isin_code}\")  \n",
    "\n",
    "    if len(code) == 10 or (len(code) >= 13 and code.find('-') != -1):\n",
    "        numeric_values, operated_values, sum_operated_values, validation, check_digit = isbn(code)\n",
    "        print(f\"ISBN Code: {code}\")\n",
    "        print(f\"Numeric values: {numeric_values}\")\n",
    "        print(f\"Operated values: {operated_values}\")\n",
    "        print(f\"Sum of operated values: {sum_operated_values}\")\n",
    "        print(f\"Validation: {validation}\")\n",
    "        print(f\"Check digit: {check_digit}\")\n",
    "    return\n",
    "\n",
    "def main_x(code):\n",
    "    if len(code) >= 13 or len(code) == 8:\n",
    "        numeric_values, triple_values, numeric_value, x_digit, complete_EAN13 = found_x(code)\n",
    "        print(f\"EAN13 Code: {code}\")\n",
    "        print(f\"Generated numeric values: {numeric_values}\")\n",
    "        print(f\"Operated numeric values: {triple_values}\")\n",
    "        print(f\"Sum of operated numeric values: {numeric_value}\")\n",
    "        print(f\"The digit to replace X: {x_digit}\")\n",
    "        print(f\"New generated EAN13: {complete_EAN13}\" if len(code) >= 13 else f\"New generated EAN8: {complete_EAN13}\")\n",
    "\n",
    "    if len(code) == 12:\n",
    "        numeric_values, double_numeric_values, numeric_value, digit, complete_isin = found_x_isin(code)\n",
    "        print(f\"ISIN Code: {code}\")\n",
    "        print(f\"Generated numeric values: {numeric_values}\")\n",
    "        print(f\"Operated numeric values: {double_numeric_values}\")\n",
    "        print(f\"Sum of operated numeric values: {numeric_value}\")\n",
    "        print(f\"The digit to replace X: {digit}\")\n",
    "        print(f\"New generated ISIN: {complete_isin}\")  \n",
    "    return"
   ]
  },
  {
   "cell_type": "markdown",
   "metadata": {},
   "source": [
    "## Unit Test"
   ]
  },
  {
   "cell_type": "markdown",
   "metadata": {},
   "source": [
    "### validate ISIN CODE"
   ]
  },
  {
   "cell_type": "code",
   "execution_count": 397,
   "metadata": {},
   "outputs": [
    {
     "name": "stdout",
     "output_type": "stream",
     "text": [
      "ISIN Code: US7960502018\n",
      "Generated numeric values: [3, 0, 2, 8, 7, 9, 6, 0, 5, 0, 2, 0, 1, 8]\n",
      "Operated numeric values: [6, 0, 4, 8, 5, 9, 3, 0, 1, 0, 4, 0, 2, 8]\n",
      "Sum of operated numeric values: 50\n",
      "Validation: valid ISIN\n",
      "Control digit: 8\n",
      "New ISIN Code: US7960502018\n"
     ]
    }
   ],
   "source": [
    "isin_example = \"US7960502018\"\n",
    "main_validate(isin_example)"
   ]
  },
  {
   "cell_type": "markdown",
   "metadata": {},
   "source": [
    "### control digit ISIN CODE"
   ]
  },
  {
   "cell_type": "code",
   "execution_count": 398,
   "metadata": {},
   "outputs": [
    {
     "name": "stdout",
     "output_type": "stream",
     "text": [
      "ISIN Code: NL001158514X\n",
      "Generated numeric values: [2, 3, 2, 1, 0, 0, 1, 1, 5, 8, 5, 1, 4]\n",
      "Operated numeric values: [4, 3, 4, 1, 0, 0, 2, 1, 1, 8, 1, 1, 8]\n",
      "Sum of operated numeric values: 34\n",
      "Validation: invalid ISIN\n",
      "Control digit: 6\n",
      "New ISIN Code: NL0011585146\n"
     ]
    }
   ],
   "source": [
    "isin_example = \"NL001158514X\"\n",
    "main_validate(isin_example)"
   ]
  },
  {
   "cell_type": "markdown",
   "metadata": {},
   "source": [
    "### found X in ISIN CODE"
   ]
  },
  {
   "cell_type": "code",
   "execution_count": 399,
   "metadata": {},
   "outputs": [
    {
     "name": "stdout",
     "output_type": "stream",
     "text": [
      "ISIN Code: MX20273749X7\n",
      "Generated numeric values: [2, 2, 3, 3, 2, 0, 2, 7, 3, 7, 'X', 9, 0, 7]\n",
      "Operated numeric values: [4, 2, 6, 3, 4, 0, 4, 7, 6, 7, 'X', 9, 0, 7]\n",
      "Sum of operated numeric values: 67\n",
      "The digit to replace X: 6\n",
      "New generated ISIN: MX2027374967\n"
     ]
    }
   ],
   "source": [
    "isin_example = \"MX20273749X7\"\n",
    "main_x(isin_example)"
   ]
  },
  {
   "cell_type": "markdown",
   "metadata": {},
   "source": [
    "### validate EAN-13 code"
   ]
  },
  {
   "cell_type": "code",
   "execution_count": 400,
   "metadata": {},
   "outputs": [
    {
     "name": "stdout",
     "output_type": "stream",
     "text": [
      "EAN13 Code: 4902778913970\n",
      "Generated numeric values: [4, 9, 0, 2, 7, 7, 8, 9, 1, 3, 9, 7, 0]\n",
      "Operated numeric values: [4, 27, 0, 6, 7, 21, 8, 27, 1, 9, 9, 21, 0]\n",
      "Sum of operated numeric values: 140\n",
      "Validation: valid EAN13\n",
      "Control digit: 0\n",
      "New EAN13 Code: 4902778913970\n"
     ]
    }
   ],
   "source": [
    "EAN13_example = \"4902778913970\"\n",
    "main_validate(EAN13_example)"
   ]
  },
  {
   "cell_type": "markdown",
   "metadata": {},
   "source": [
    "### Control digit EAN-13 code"
   ]
  },
  {
   "cell_type": "code",
   "execution_count": 401,
   "metadata": {},
   "outputs": [
    {
     "name": "stdout",
     "output_type": "stream",
     "text": [
      "EAN13 Code: 780389328012X\n",
      "Generated numeric values: [7, 8, 0, 3, 8, 9, 3, 2, 8, 0, 1, 2]\n",
      "Operated numeric values: [7, 24, 0, 9, 8, 27, 3, 6, 8, 0, 1, 6]\n",
      "Sum of operated numeric values: 99\n",
      "Validation: invalid EAN13\n",
      "Control digit: 1\n",
      "New EAN13 Code: 7803893280121\n"
     ]
    }
   ],
   "source": [
    "EAN13_example1 = \"780389328012X\"\n",
    "main_validate(EAN13_example1)   "
   ]
  },
  {
   "cell_type": "code",
   "execution_count": 402,
   "metadata": {},
   "outputs": [
    {
     "name": "stdout",
     "output_type": "stream",
     "text": [
      "EAN13 Code: 7590167890234X\n",
      "Generated numeric values: invalid EAN13\n",
      "Operated numeric values: invalid EAN13\n",
      "Sum of operated numeric values: invalid EAN13\n",
      "Validation: invalid EAN13\n",
      "Control digit: invalid EAN13\n",
      "New EAN13 Code: invalid EAN13\n"
     ]
    }
   ],
   "source": [
    "EAN13_example2 = \"7590167890234X\"\n",
    "main_validate(EAN13_example2)"
   ]
  },
  {
   "cell_type": "markdown",
   "metadata": {},
   "source": [
    "### found X EAN-13 code"
   ]
  },
  {
   "cell_type": "code",
   "execution_count": 403,
   "metadata": {},
   "outputs": [
    {
     "name": "stdout",
     "output_type": "stream",
     "text": [
      "EAN13 Code: 843x554161789\n",
      "Generated numeric values: [8, 4, 3, 'X', 5, 5, 4, 1, 6, 1, 7, 8, 9]\n",
      "Operated numeric values: [8, 12, 3, 'X', 5, 15, 4, 3, 6, 3, 7, 24, 9]\n",
      "Sum of operated numeric values: 99\n",
      "The digit to replace X: 7\n",
      "New generated EAN13: 8437554161789\n"
     ]
    }
   ],
   "source": [
    "EAN13_example3 = '843x554161789'\n",
    "main_x(EAN13_example3)"
   ]
  },
  {
   "cell_type": "code",
   "execution_count": 404,
   "metadata": {},
   "outputs": [
    {
     "name": "stdout",
     "output_type": "stream",
     "text": [
      "EAN13 Code: 5725351455x67\n",
      "Generated numeric values: [5, 7, 2, 5, 3, 5, 1, 4, 5, 5, 'X', 6, 7]\n",
      "Operated numeric values: [5, 21, 2, 15, 3, 15, 1, 12, 5, 15, 'X', 18, 7]\n",
      "Sum of operated numeric values: 119\n",
      "The digit to replace X: 1\n",
      "New generated EAN13: 5725351455167\n"
     ]
    }
   ],
   "source": [
    "EAN13_example4 = '5725351455x67'\n",
    "main_x(EAN13_example4)"
   ]
  },
  {
   "cell_type": "markdown",
   "metadata": {},
   "source": [
    "### validate EAN-8 code"
   ]
  },
  {
   "cell_type": "code",
   "execution_count": 405,
   "metadata": {},
   "outputs": [
    {
     "name": "stdout",
     "output_type": "stream",
     "text": [
      "EAN13 Code: 77000260\n",
      "Generated numeric values: [7, 7, 0, 0, 0, 2, 6, 0]\n",
      "Operated numeric values: [21, 7, 0, 0, 0, 2, 18, 0]\n",
      "Sum of operated numeric values: 48\n",
      "Validation: invalid EAN8\n",
      "Control digit: 0\n",
      "New EAN8 Code: 77000260\n"
     ]
    }
   ],
   "source": [
    "ean8_example = \"77000260\"\n",
    "main_validate(ean8_example)"
   ]
  },
  {
   "cell_type": "code",
   "execution_count": 406,
   "metadata": {},
   "outputs": [
    {
     "name": "stdout",
     "output_type": "stream",
     "text": [
      "EAN13 Code: 12344567\n",
      "Generated numeric values: [1, 2, 3, 4, 4, 5, 6, 7]\n",
      "Operated numeric values: [3, 2, 9, 4, 12, 5, 18, 7]\n",
      "Sum of operated numeric values: 60\n",
      "Validation: valid EAN8\n",
      "Control digit: 7\n",
      "New EAN8 Code: 12344567\n"
     ]
    }
   ],
   "source": [
    "ean8_example1 = \"12344567\"\n",
    "main_validate(ean8_example1)"
   ]
  },
  {
   "cell_type": "markdown",
   "metadata": {},
   "source": [
    "### found X EAN-8 code"
   ]
  },
  {
   "cell_type": "code",
   "execution_count": 407,
   "metadata": {},
   "outputs": [
    {
     "name": "stdout",
     "output_type": "stream",
     "text": [
      "EAN13 Code: 735135X3\n",
      "Generated numeric values: [7, 3, 5, 1, 3, 5, 'X', 3]\n",
      "Operated numeric values: [21, 3, 15, 1, 9, 5, 'X', 3]\n",
      "Sum of operated numeric values: 57\n",
      "The digit to replace X: 1\n",
      "New generated EAN8: 73513513\n"
     ]
    }
   ],
   "source": [
    "ean8_example = \"735135X3\"\n",
    "main_x(ean8_example)"
   ]
  },
  {
   "cell_type": "markdown",
   "metadata": {},
   "source": [
    "### validate ISBN-10 code "
   ]
  },
  {
   "cell_type": "code",
   "execution_count": 408,
   "metadata": {},
   "outputs": [
    {
     "name": "stdout",
     "output_type": "stream",
     "text": [
      "ISBN Code: 0-534-91500-0\n",
      "Numeric values: [0, 5, 3, 4, 9, 1, 5, 0, 0, 0]\n",
      "Operated values: [0, 45, 24, 28, 54, 5, 20, 0, 0, 0]\n",
      "Sum of operated values: 176\n",
      "Validation: valid ISBN-10\n",
      "Check digit: 0\n"
     ]
    }
   ],
   "source": [
    "isbn10_example = \"0-534-91500-0\"\n",
    "main_validate(isbn10_example)"
   ]
  },
  {
   "cell_type": "code",
   "execution_count": 409,
   "metadata": {},
   "outputs": [
    {
     "name": "stdout",
     "output_type": "stream",
     "text": [
      "ISBN Code: 0-534-91700-0\n",
      "Numeric values: [0, 5, 3, 4, 9, 1, 7, 0, 0, 0]\n",
      "Operated values: [0, 45, 24, 28, 54, 5, 28, 0, 0, 0]\n",
      "Sum of operated values: 184\n",
      "Validation: invalid ISBN-10\n",
      "Check digit: 0\n"
     ]
    }
   ],
   "source": [
    "isbn10_example1 = \"0-534-91700-0\"\n",
    "main_validate(isbn10_example1)"
   ]
  },
  {
   "cell_type": "markdown",
   "metadata": {},
   "source": [
    "### validate ISBN-13 code   "
   ]
  },
  {
   "cell_type": "code",
   "execution_count": 410,
   "metadata": {},
   "outputs": [
    {
     "name": "stdout",
     "output_type": "stream",
     "text": [
      "ISBN Code: 978-0-306-40615-7\n",
      "Numeric values: [9, 7, 8, 0, 3, 0, 6, 4, 0, 6, 1, 5, 7]\n",
      "Operated values: [9, 21, 8, 0, 3, 0, 6, 12, 0, 18, 1, 15, 7]\n",
      "Sum of operated values: 100\n",
      "Validation: invalid ISBN-13\n",
      "Check digit: 7\n"
     ]
    }
   ],
   "source": [
    "isbn13_example = \"978-0-306-40615-7\"\n",
    "main_validate(isbn13_example)"
   ]
  },
  {
   "cell_type": "markdown",
   "metadata": {},
   "source": [
    "### convert ISBN-10 to ISBN-13"
   ]
  },
  {
   "cell_type": "code",
   "execution_count": 411,
   "metadata": {},
   "outputs": [
    {
     "name": "stdout",
     "output_type": "stream",
     "text": [
      "ISBN-10: 9588252008\n",
      "The ISBN-13 converted: 9789588252001\n"
     ]
    }
   ],
   "source": [
    "isbn10_sample = \"9588252008\"\n",
    "isbn13_converted = isbn10_to_isbn13(isbn10_sample)\n",
    "\n",
    "print(f\"ISBN-10: {isbn10_sample}\")\n",
    "print(f\"The ISBN-13 converted: {isbn13_converted}\")"
   ]
  }
 ],
 "metadata": {
  "kernelspec": {
   "display_name": "Python 3",
   "language": "python",
   "name": "python3"
  },
  "language_info": {
   "codemirror_mode": {
    "name": "ipython",
    "version": 3
   },
   "file_extension": ".py",
   "mimetype": "text/x-python",
   "name": "python",
   "nbconvert_exporter": "python",
   "pygments_lexer": "ipython3",
   "version": "3.11.2"
  }
 },
 "nbformat": 4,
 "nbformat_minor": 2
}
