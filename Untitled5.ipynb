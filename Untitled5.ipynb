{
  "cells": [
    {
      "cell_type": "code",
      "execution_count": 1,
      "metadata": {
        "id": "aA4UHJqwh9aA"
      },
      "outputs": [],
      "source": [
        "def sum_digits(number):\n",
        "    return sum(int(digit) for digit in str(number))\n",
        "\n",
        "def generate_codes(code, letter_values):\n",
        "    result = []\n",
        "\n",
        "    for char in code:\n",
        "        if char == 'x':\n",
        "            result.append(char)\n",
        "        elif char.isalpha():\n",
        "            value = letter_values[char.upper()]\n",
        "            result.extend(map(int, str(value)))\n",
        "        else:\n",
        "            result.append(int(char))\n",
        "\n",
        "    return result\n",
        "\n",
        "\n",
        "def process_codes(codes):\n",
        "    new_code = []\n",
        "    count, save_index = 0, None\n",
        "\n",
        "    for index, code in enumerate(codes):\n",
        "        if code == 'x':\n",
        "            save_index = index + 1\n",
        "            value = code\n",
        "        else:\n",
        "            value = 2 * code if (index + 1) % 2 == 1 else code\n",
        "            value = sum_digits(value) if value >= 10 else value\n",
        "            count += value\n",
        "        new_code.append(value)\n",
        "\n",
        "    return new_code, count, save_index\n",
        "\n",
        "\n",
        "def calculate_variable(codes, count, save_index, remainder):\n",
        "    x = abs(count % 10 - 10)\n",
        "\n",
        "    if save_index % 2 == 1:\n",
        "        x = remainder[x] if x % 2 == 1 else x / 2\n",
        "\n",
        "    return x\n",
        "\n",
        "def calculate_isin(code):\n",
        "    letter_values = {chr(ord('A') + i): 10 + i for i in range(26)}\n",
        "    remainder = {1: 5, 3: 6, 5: 7, 7: 8, 9: 9}\n",
        "    codes = generate_codes(code, letter_values)\n",
        "    print(\"Generated Codes:\", codes)\n",
        "\n",
        "    new_code, count, save_index = process_codes(codes)\n",
        "    print(\"Sum of Digits:\", count)\n",
        "\n",
        "    if 'x' in new_code:\n",
        "        x = calculate_variable(new_code, count, save_index, remainder)\n",
        "        print(\"Calculated Variable:\", x)\n",
        "        codes[save_index - 1] = x\n",
        "        print(\"New code:\", codes)\n",
        "    else:\n",
        "        print(\"The ISIN code is valid.\" if count % 10 == 0 else \"The ISIN code is invalid.\")\n",
        "        return None"
      ]
    },
    {
      "cell_type": "code",
      "execution_count": null,
      "metadata": {
        "colab": {
          "base_uri": "https://localhost:8080/"
        },
        "id": "XCA1lkVw7kIU",
        "outputId": "7247e9d4-8699-479f-938b-6707533716ce"
      },
      "outputs": [
        {
          "name": "stdout",
          "output_type": "stream",
          "text": [
            "Generated Codes: [2, 3, 2, 1, 0, 0, 1, 1, 5, 8, 'x', 1, 4, 6]\n",
            "Sum of Digits: 39\n",
            "Calculated Variable: 5\n",
            "New code: [2, 3, 2, 1, 0, 0, 1, 1, 5, 8, 5, 1, 4, 6]\n"
          ]
        }
      ],
      "source": [
        "code = 'NL001158x146'\n",
        "\n",
        "calculate_isin(code)"
      ]
    },
    {
      "cell_type": "code",
      "execution_count": null,
      "metadata": {
        "colab": {
          "base_uri": "https://localhost:8080/"
        },
        "id": "5KofRCsu7I_U",
        "outputId": "45b8bcf7-a429-407b-92d8-cd2e837fd633"
      },
      "outputs": [
        {
          "name": "stdout",
          "output_type": "stream",
          "text": [
            "Generated Codes: [3, 0, 2, 8, 7, 9, 6, 0, 5, 0, 2, 0, 1, 8]\n",
            "Sum of Digits: 50\n",
            "The ISIN code is valid.\n"
          ]
        }
      ],
      "source": [
        "code = 'US7960502018'\n",
        "\n",
        "calculate_isin(code)"
      ]
    },
    {
      "cell_type": "code",
      "execution_count": null,
      "metadata": {
        "colab": {
          "base_uri": "https://localhost:8080/"
        },
        "id": "4StzhNRACJri",
        "outputId": "5bac0dcd-8378-4f32-8ab7-0c19ac4faf02"
      },
      "outputs": [
        {
          "name": "stdout",
          "output_type": "stream",
          "text": [
            "Generated Codes: [2, 1, 3, 0, 2, 0, 2, 7, 3, 7, 4, 9, 'x', 7]\n",
            "Sum of Digits: 63\n",
            "Calculated Variable: 8\n",
            "New code: [2, 1, 3, 0, 2, 0, 2, 7, 3, 7, 4, 9, 8, 7]\n"
          ]
        }
      ],
      "source": [
        "code = 'LU20273749x7'\n",
        "\n",
        "calculate_isin(code)"
      ]
    }
  ],
  "metadata": {
    "colab": {
      "provenance": []
    },
    "kernelspec": {
      "display_name": "Python 3",
      "name": "python3"
    },
    "language_info": {
      "codemirror_mode": {
        "name": "ipython",
        "version": 3
      },
      "file_extension": ".py",
      "mimetype": "text/x-python",
      "name": "python",
      "nbconvert_exporter": "python",
      "pygments_lexer": "ipython3",
      "version": "3.11.2"
    }
  },
  "nbformat": 4,
  "nbformat_minor": 0
}
