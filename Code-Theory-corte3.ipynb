{
 "cells": [
  {
   "cell_type": "markdown",
   "metadata": {},
   "source": [
    "# Taller Teoria de Codigo (Reduccion, perforación, sindrome)\n",
    "\n",
    "### Integrantes: Kenny Zhu y Yovany Zhu"
   ]
  },
  {
   "cell_type": "code",
   "execution_count": 796,
   "metadata": {},
   "outputs": [],
   "source": [
    "from itertools import product\n",
    "import itertools\n",
    "import numpy as np"
   ]
  },
  {
   "cell_type": "markdown",
   "metadata": {},
   "source": [
    "## Funciones"
   ]
  },
  {
   "cell_type": "code",
   "execution_count": 797,
   "metadata": {},
   "outputs": [],
   "source": [
    "def create_copy_matrix(matrix):\n",
    "    new_matrix = []\n",
    "    for row in matrix:\n",
    "        copy_row = []\n",
    "        for element in row:\n",
    "            copy_row.append(element)\n",
    "        new_matrix.append(copy_row)\n",
    "    return new_matrix\n",
    "\n",
    "def generate_code(matrix, q, _):\n",
    "    code = generate_combination(q, len(matrix))\n",
    "    codeword = [[sum(a * b for a, b in zip(row, col)) % q for col in zip(*matrix)] for row in code]\n",
    "    return codeword\n",
    "\n",
    "def generate_combination(q, n):\n",
    "    code = []\n",
    "    for i in range(q):\n",
    "        code.append(i)\n",
    "\n",
    "    combinations = [list(comb) for comb in product(code, repeat=n)]\n",
    "\n",
    "    return combinations\n",
    "\n",
    "def hamming_distance(codeword1, codeword2):\n",
    "    return sum(el1 != el2 for el1, el2 in zip(codeword1, codeword2))\n",
    "\n",
    "def find_minimum_distance(codewords):\n",
    "    min_dist = None \n",
    "    for i in range(len(codewords)):\n",
    "        for j in range(i + 1, len(codewords)):\n",
    "            dist = hamming_distance(codewords[i], codewords[j])\n",
    "            if min_dist is None or dist < min_dist:\n",
    "                min_dist = dist\n",
    "    return min_dist\n",
    "\n",
    "def matrix_control(generator_matrix):\n",
    "    k, n = len(generator_matrix), len(generator_matrix[0])\n",
    "    identity_part = [row[:k] for row in generator_matrix]\n",
    "    parity_part = [row[k:] for row in generator_matrix]\n",
    "    parity_transpose = [list(x) for x in zip(*parity_part)]\n",
    "    identity_for_H = np.eye(n - k, dtype=int).tolist()\n",
    "    H_control = [parity_transpose[i] + identity_for_H[i] for i in range(n - k)]\n",
    "    for i in range(len(H_control)):\n",
    "        for j in range(len(H_control[0])):\n",
    "            H_control[i][j] = H_control[i][j] % 2\n",
    "    return H_control\n",
    "\n",
    "def parameters(codeword):\n",
    "    n = len(codeword[0])\n",
    "    k = len(codeword)\n",
    "    d = find_minimum_distance(codeword)\n",
    "    return n, k, d"
   ]
  },
  {
   "cell_type": "markdown",
   "metadata": {},
   "source": [
    "## Codigo Extension"
   ]
  },
  {
   "cell_type": "code",
   "execution_count": 798,
   "metadata": {},
   "outputs": [],
   "source": [
    "def generate_extension_code(code, q, n):\n",
    "    for i in range(len(code)):\n",
    "        count = 0\n",
    "        for j in range(n):\n",
    "            count += code[i][j]\n",
    "        if count % q == 0:\n",
    "            code[i].insert(n + 1, 0)\n",
    "        else:\n",
    "            code[i].insert(n + 1, q - count % q)\n",
    "    return code\n"
   ]
  },
  {
   "cell_type": "markdown",
   "metadata": {},
   "source": [
    "## Codigo reducción"
   ]
  },
  {
   "cell_type": "code",
   "execution_count": 799,
   "metadata": {},
   "outputs": [],
   "source": [
    "def reduction(code, i):\n",
    "    code = create_copy_matrix(code)\n",
    "    codeword = []\n",
    "    for n in range(len(code)):\n",
    "        if code[n][i] == 0:\n",
    "            codeword.append(code[n])\n",
    "            del codeword[len(codeword) - 1][i]\n",
    "    return codeword"
   ]
  },
  {
   "cell_type": "markdown",
   "metadata": {},
   "source": [
    "## Codigo de perforación"
   ]
  },
  {
   "cell_type": "code",
   "execution_count": 800,
   "metadata": {},
   "outputs": [],
   "source": [
    "def perforation(code, i):\n",
    "    code = create_copy_matrix(code)\n",
    "    codeword = []\n",
    "    for n in code:\n",
    "        new_codeword = n[:i] + n[i+1:]\n",
    "        codeword.append(new_codeword)\n",
    "    return codeword"
   ]
  },
  {
   "cell_type": "markdown",
   "metadata": {},
   "source": [
    "## Sindrome"
   ]
  },
  {
   "cell_type": "code",
   "execution_count": 801,
   "metadata": {},
   "outputs": [],
   "source": [
    "def vector_with_least_ones(codes):\n",
    "    min_ones = float('inf')\n",
    "    vector_least_ones = None\n",
    "\n",
    "    for code in codes:\n",
    "        count_ones = sum(code)\n",
    "\n",
    "        if count_ones < min_ones:\n",
    "            min_ones = count_ones\n",
    "            vector_least_ones = code\n",
    "\n",
    "    return vector_least_ones\n",
    "\n",
    "\n",
    "def generate_all_codewords(length):\n",
    "    return list(itertools.product([0, 1], repeat=length))\n",
    "\n",
    "\n",
    "def find_missing_codewords(all_codewords, existing_codewords):\n",
    "    missing_codewords = []\n",
    "    for codeword in all_codewords:\n",
    "        if list(codeword) not in existing_codewords:\n",
    "            missing_codewords.append(codeword)\n",
    "    code = list(vector_with_least_ones(missing_codewords))\n",
    "    return code\n",
    "\n",
    "\n",
    "def find_side_classes(matrix, q, n):\n",
    "    code = generate_code(matrix, q, n)\n",
    "    error = []\n",
    "    error.append(vector_with_least_ones(code))\n",
    "    codes = create_copy_matrix(code)\n",
    "    print(f\"error 1: {vector_with_least_ones(code)} : {codes}\")\n",
    "    all_possible_codewords = generate_all_codewords(n)\n",
    "\n",
    "    for i in range(q**(n - len(matrix)) - 1):\n",
    "        missing_codewords = find_missing_codewords(all_possible_codewords, codes)\n",
    "        new_codes = [[(x + y) % 2 for x, y in zip(code, missing_codewords)] for code in code]\n",
    "        print(f\"error {i + 2}: {missing_codewords} : {new_codes}\")\n",
    "        codes.extend(new_codes)\n",
    "        error.append(missing_codewords)\n",
    "\n",
    "    return error"
   ]
  },
  {
   "cell_type": "markdown",
   "metadata": {},
   "source": [
    "## Solución Taller\n",
    "\n",
    "1. (20 points) Considere el código C sobre $ \\mathbb{F}_3 $ con matriz generadora $ G $ y responda las preguntas a continuación.\n",
    "\n",
    "   $$ G = \\left[ \\begin{array}{cccccc}\n",
    "   2 & 1 & 0 & 0 & 1 & 1 \\\\\n",
    "   1 & 0 & 2 & 2 & 1 & 0 \\\\\n",
    "   0 & 1 & 0 & 0 & 2 & 1 \\\\\n",
    "   \\end{array} \\right] $$\n",
    "\n",
    "   a. Halle el código de extensión $ \\hat{C} $.\n"
   ]
  },
  {
   "cell_type": "code",
   "execution_count": 802,
   "metadata": {},
   "outputs": [
    {
     "data": {
      "text/plain": [
       "[[0, 0, 0, 0, 0, 0, 0],\n",
       " [0, 1, 0, 0, 2, 1, 2],\n",
       " [0, 2, 0, 0, 1, 2, 1],\n",
       " [1, 0, 2, 2, 1, 0, 0],\n",
       " [1, 1, 2, 2, 0, 1, 2],\n",
       " [1, 2, 2, 2, 2, 2, 1],\n",
       " [2, 0, 1, 1, 2, 0, 0],\n",
       " [2, 1, 1, 1, 1, 1, 2],\n",
       " [2, 2, 1, 1, 0, 2, 1],\n",
       " [2, 1, 0, 0, 1, 1, 1],\n",
       " [2, 2, 0, 0, 0, 2, 0],\n",
       " [2, 0, 0, 0, 2, 0, 2],\n",
       " [0, 1, 2, 2, 2, 1, 1],\n",
       " [0, 2, 2, 2, 1, 2, 0],\n",
       " [0, 0, 2, 2, 0, 0, 2],\n",
       " [1, 1, 1, 1, 0, 1, 1],\n",
       " [1, 2, 1, 1, 2, 2, 0],\n",
       " [1, 0, 1, 1, 1, 0, 2],\n",
       " [1, 2, 0, 0, 2, 2, 2],\n",
       " [1, 0, 0, 0, 1, 0, 1],\n",
       " [1, 1, 0, 0, 0, 1, 0],\n",
       " [2, 2, 2, 2, 0, 2, 2],\n",
       " [2, 0, 2, 2, 2, 0, 1],\n",
       " [2, 1, 2, 2, 1, 1, 0],\n",
       " [0, 2, 1, 1, 1, 2, 2],\n",
       " [0, 0, 1, 1, 0, 0, 1],\n",
       " [0, 1, 1, 1, 2, 1, 0]]"
      ]
     },
     "execution_count": 802,
     "metadata": {},
     "output_type": "execute_result"
    }
   ],
   "source": [
    "matrix = [[2, 1, 0, 0, 1, 1],[1, 0, 2, 2, 1, 0],[0, 1, 0, 0, 2, 1]]\n",
    "\n",
    "code = generate_code(matrix, 3, 6)\n",
    "\n",
    "extension_code = generate_extension_code(code, 3, 6)\n",
    "\n",
    "extension_code"
   ]
  },
  {
   "cell_type": "markdown",
   "metadata": {},
   "source": [
    "b. Halle los parámetros de $ \\hat{C} $."
   ]
  },
  {
   "cell_type": "code",
   "execution_count": 803,
   "metadata": {},
   "outputs": [
    {
     "name": "stdout",
     "output_type": "stream",
     "text": [
      "Los parametros son: \n",
      " n = 7, k = 27, d = 3\n"
     ]
    }
   ],
   "source": [
    "parametros = parameters(extension_code)\n",
    "print(f\"Los parametros son: \\n n = {parametros[0]}, k = {parametros[1]}, d = {parametros[2]}\")"
   ]
  },
  {
   "cell_type": "markdown",
   "metadata": {},
   "source": [
    "c. Halle $ \\hat{C_i} $, para $ 1 \\leq i \\leq 6 $."
   ]
  },
  {
   "cell_type": "code",
   "execution_count": 804,
   "metadata": {},
   "outputs": [
    {
     "data": {
      "text/plain": [
       "[[0, 0, 0, 0, 0, 0],\n",
       " [0, 1, 0, 0, 2, 1],\n",
       " [0, 2, 0, 0, 1, 2],\n",
       " [1, 0, 2, 2, 1, 0],\n",
       " [1, 1, 2, 2, 0, 1],\n",
       " [1, 2, 2, 2, 2, 2],\n",
       " [2, 0, 1, 1, 2, 0],\n",
       " [2, 1, 1, 1, 1, 1],\n",
       " [2, 2, 1, 1, 0, 2],\n",
       " [2, 1, 0, 0, 1, 1],\n",
       " [2, 2, 0, 0, 0, 2],\n",
       " [2, 0, 0, 0, 2, 0],\n",
       " [0, 1, 2, 2, 2, 1],\n",
       " [0, 2, 2, 2, 1, 2],\n",
       " [0, 0, 2, 2, 0, 0],\n",
       " [1, 1, 1, 1, 0, 1],\n",
       " [1, 2, 1, 1, 2, 2],\n",
       " [1, 0, 1, 1, 1, 0],\n",
       " [1, 2, 0, 0, 2, 2],\n",
       " [1, 0, 0, 0, 1, 0],\n",
       " [1, 1, 0, 0, 0, 1],\n",
       " [2, 2, 2, 2, 0, 2],\n",
       " [2, 0, 2, 2, 2, 0],\n",
       " [2, 1, 2, 2, 1, 1],\n",
       " [0, 2, 1, 1, 1, 2],\n",
       " [0, 0, 1, 1, 0, 0],\n",
       " [0, 1, 1, 1, 2, 1]]"
      ]
     },
     "execution_count": 804,
     "metadata": {},
     "output_type": "execute_result"
    }
   ],
   "source": [
    "codeword = generate_code(matrix, 3, 6)\n",
    "\n",
    "codeword"
   ]
  },
  {
   "cell_type": "code",
   "execution_count": 805,
   "metadata": {},
   "outputs": [
    {
     "name": "stdout",
     "output_type": "stream",
     "text": [
      "perforación 1: [[0, 0, 0, 0, 0], [1, 0, 0, 2, 1], [2, 0, 0, 1, 2], [0, 2, 2, 1, 0], [1, 2, 2, 0, 1], [2, 2, 2, 2, 2], [0, 1, 1, 2, 0], [1, 1, 1, 1, 1], [2, 1, 1, 0, 2], [1, 0, 0, 1, 1], [2, 0, 0, 0, 2], [0, 0, 0, 2, 0], [1, 2, 2, 2, 1], [2, 2, 2, 1, 2], [0, 2, 2, 0, 0], [1, 1, 1, 0, 1], [2, 1, 1, 2, 2], [0, 1, 1, 1, 0], [2, 0, 0, 2, 2], [0, 0, 0, 1, 0], [1, 0, 0, 0, 1], [2, 2, 2, 0, 2], [0, 2, 2, 2, 0], [1, 2, 2, 1, 1], [2, 1, 1, 1, 2], [0, 1, 1, 0, 0], [1, 1, 1, 2, 1]]\n",
      "perforación 2: [[0, 0, 0, 0, 0], [0, 0, 0, 2, 1], [0, 0, 0, 1, 2], [1, 2, 2, 1, 0], [1, 2, 2, 0, 1], [1, 2, 2, 2, 2], [2, 1, 1, 2, 0], [2, 1, 1, 1, 1], [2, 1, 1, 0, 2], [2, 0, 0, 1, 1], [2, 0, 0, 0, 2], [2, 0, 0, 2, 0], [0, 2, 2, 2, 1], [0, 2, 2, 1, 2], [0, 2, 2, 0, 0], [1, 1, 1, 0, 1], [1, 1, 1, 2, 2], [1, 1, 1, 1, 0], [1, 0, 0, 2, 2], [1, 0, 0, 1, 0], [1, 0, 0, 0, 1], [2, 2, 2, 0, 2], [2, 2, 2, 2, 0], [2, 2, 2, 1, 1], [0, 1, 1, 1, 2], [0, 1, 1, 0, 0], [0, 1, 1, 2, 1]]\n",
      "perforación 3: [[0, 0, 0, 0, 0], [0, 1, 0, 2, 1], [0, 2, 0, 1, 2], [1, 0, 2, 1, 0], [1, 1, 2, 0, 1], [1, 2, 2, 2, 2], [2, 0, 1, 2, 0], [2, 1, 1, 1, 1], [2, 2, 1, 0, 2], [2, 1, 0, 1, 1], [2, 2, 0, 0, 2], [2, 0, 0, 2, 0], [0, 1, 2, 2, 1], [0, 2, 2, 1, 2], [0, 0, 2, 0, 0], [1, 1, 1, 0, 1], [1, 2, 1, 2, 2], [1, 0, 1, 1, 0], [1, 2, 0, 2, 2], [1, 0, 0, 1, 0], [1, 1, 0, 0, 1], [2, 2, 2, 0, 2], [2, 0, 2, 2, 0], [2, 1, 2, 1, 1], [0, 2, 1, 1, 2], [0, 0, 1, 0, 0], [0, 1, 1, 2, 1]]\n",
      "perforación 4: [[0, 0, 0, 0, 0], [0, 1, 0, 2, 1], [0, 2, 0, 1, 2], [1, 0, 2, 1, 0], [1, 1, 2, 0, 1], [1, 2, 2, 2, 2], [2, 0, 1, 2, 0], [2, 1, 1, 1, 1], [2, 2, 1, 0, 2], [2, 1, 0, 1, 1], [2, 2, 0, 0, 2], [2, 0, 0, 2, 0], [0, 1, 2, 2, 1], [0, 2, 2, 1, 2], [0, 0, 2, 0, 0], [1, 1, 1, 0, 1], [1, 2, 1, 2, 2], [1, 0, 1, 1, 0], [1, 2, 0, 2, 2], [1, 0, 0, 1, 0], [1, 1, 0, 0, 1], [2, 2, 2, 0, 2], [2, 0, 2, 2, 0], [2, 1, 2, 1, 1], [0, 2, 1, 1, 2], [0, 0, 1, 0, 0], [0, 1, 1, 2, 1]]\n",
      "perforación 5: [[0, 0, 0, 0, 0], [0, 1, 0, 0, 1], [0, 2, 0, 0, 2], [1, 0, 2, 2, 0], [1, 1, 2, 2, 1], [1, 2, 2, 2, 2], [2, 0, 1, 1, 0], [2, 1, 1, 1, 1], [2, 2, 1, 1, 2], [2, 1, 0, 0, 1], [2, 2, 0, 0, 2], [2, 0, 0, 0, 0], [0, 1, 2, 2, 1], [0, 2, 2, 2, 2], [0, 0, 2, 2, 0], [1, 1, 1, 1, 1], [1, 2, 1, 1, 2], [1, 0, 1, 1, 0], [1, 2, 0, 0, 2], [1, 0, 0, 0, 0], [1, 1, 0, 0, 1], [2, 2, 2, 2, 2], [2, 0, 2, 2, 0], [2, 1, 2, 2, 1], [0, 2, 1, 1, 2], [0, 0, 1, 1, 0], [0, 1, 1, 1, 1]]\n",
      "perforación 6: [[0, 0, 0, 0, 0], [0, 1, 0, 0, 2], [0, 2, 0, 0, 1], [1, 0, 2, 2, 1], [1, 1, 2, 2, 0], [1, 2, 2, 2, 2], [2, 0, 1, 1, 2], [2, 1, 1, 1, 1], [2, 2, 1, 1, 0], [2, 1, 0, 0, 1], [2, 2, 0, 0, 0], [2, 0, 0, 0, 2], [0, 1, 2, 2, 2], [0, 2, 2, 2, 1], [0, 0, 2, 2, 0], [1, 1, 1, 1, 0], [1, 2, 1, 1, 2], [1, 0, 1, 1, 1], [1, 2, 0, 0, 2], [1, 0, 0, 0, 1], [1, 1, 0, 0, 0], [2, 2, 2, 2, 0], [2, 0, 2, 2, 2], [2, 1, 2, 2, 1], [0, 2, 1, 1, 1], [0, 0, 1, 1, 0], [0, 1, 1, 1, 2]]\n"
     ]
    }
   ],
   "source": [
    "for i in range(6):\n",
    "    print(f\"perforación {i+1}: {perforation(codeword, i)}\")"
   ]
  },
  {
   "cell_type": "markdown",
   "metadata": {},
   "source": [
    "d. Halle $ \\hat{C_i} $, para $ 1 \\leq i \\leq 6 $."
   ]
  },
  {
   "cell_type": "code",
   "execution_count": 806,
   "metadata": {},
   "outputs": [
    {
     "name": "stdout",
     "output_type": "stream",
     "text": [
      "reducción 1: [[0, 0, 0, 0, 0], [1, 0, 0, 2, 1], [2, 0, 0, 1, 2], [1, 2, 2, 2, 1], [2, 2, 2, 1, 2], [0, 2, 2, 0, 0], [2, 1, 1, 1, 2], [0, 1, 1, 0, 0], [1, 1, 1, 2, 1]]\n",
      "reducción 2: [[0, 0, 0, 0, 0], [1, 2, 2, 1, 0], [2, 1, 1, 2, 0], [2, 0, 0, 2, 0], [0, 2, 2, 0, 0], [1, 1, 1, 1, 0], [1, 0, 0, 1, 0], [2, 2, 2, 2, 0], [0, 1, 1, 0, 0]]\n",
      "reducción 3: [[0, 0, 0, 0, 0], [0, 1, 0, 2, 1], [0, 2, 0, 1, 2], [2, 1, 0, 1, 1], [2, 2, 0, 0, 2], [2, 0, 0, 2, 0], [1, 2, 0, 2, 2], [1, 0, 0, 1, 0], [1, 1, 0, 0, 1]]\n",
      "reducción 4: [[0, 0, 0, 0, 0], [0, 1, 0, 2, 1], [0, 2, 0, 1, 2], [2, 1, 0, 1, 1], [2, 2, 0, 0, 2], [2, 0, 0, 2, 0], [1, 2, 0, 2, 2], [1, 0, 0, 1, 0], [1, 1, 0, 0, 1]]\n",
      "reducción 5: [[0, 0, 0, 0, 0], [1, 1, 2, 2, 1], [2, 2, 1, 1, 2], [2, 2, 0, 0, 2], [0, 0, 2, 2, 0], [1, 1, 1, 1, 1], [1, 1, 0, 0, 1], [2, 2, 2, 2, 2], [0, 0, 1, 1, 0]]\n",
      "reducción 6: [[0, 0, 0, 0, 0], [1, 0, 2, 2, 1], [2, 0, 1, 1, 2], [2, 0, 0, 0, 2], [0, 0, 2, 2, 0], [1, 0, 1, 1, 1], [1, 0, 0, 0, 1], [2, 0, 2, 2, 2], [0, 0, 1, 1, 0]]\n"
     ]
    }
   ],
   "source": [
    "for i in range(6):\n",
    "    print(f\"reducción {i+1}: {reduction(codeword, i)}\")"
   ]
  },
  {
   "cell_type": "markdown",
   "metadata": {},
   "source": [
    "2. (30 points) Considere el código $ C $ sobre $ F_2 $ con matriz generadora $ G $ y responda las preguntas a continuación.\n",
    "\n",
    "$$ G = \\begin{pmatrix}\n",
    "1 & 0 & 0 & 1 & 0 & 1 & 0 \\\\\n",
    "0 & 1 & 0 & 1 & 1 & 0 & 1 \\\\\n",
    "0 & 0 & 1 & 1 & 0 & 0 & 1\n",
    "\\end{pmatrix} $$\n",
    "\n",
    "a. Halle el código de extensión $ \\hat{C} $.\\\n",
    "b. Halle los parámetros de $ \\hat{C} $.\\\n",
    "c. Halle $ \\hat{c}_i $, para $ 1 \\leq i \\leq 3 $.\\\n",
    "d. Halle $ \\hat{C}_i $, para $ 1 \\leq i \\leq 3 $.\\\n",
    "e. Halle una matriz de control $ H $ para el código $ C $.\\\n",
    "f. Decodifique el vector 1110011 usando síndromes.\n"
   ]
  },
  {
   "cell_type": "markdown",
   "metadata": {},
   "source": [
    "a."
   ]
  },
  {
   "cell_type": "code",
   "execution_count": 807,
   "metadata": {},
   "outputs": [
    {
     "data": {
      "text/plain": [
       "[[0, 0, 0, 0, 0, 0, 0, 0],\n",
       " [0, 0, 1, 1, 0, 0, 1, 1],\n",
       " [0, 1, 0, 1, 1, 0, 1, 0],\n",
       " [0, 1, 1, 0, 1, 0, 0, 1],\n",
       " [1, 0, 0, 1, 0, 1, 0, 1],\n",
       " [1, 0, 1, 0, 0, 1, 1, 0],\n",
       " [1, 1, 0, 0, 1, 1, 1, 1],\n",
       " [1, 1, 1, 1, 1, 1, 0, 0]]"
      ]
     },
     "execution_count": 807,
     "metadata": {},
     "output_type": "execute_result"
    }
   ],
   "source": [
    "matrix = [[1, 0, 0, 1, 0, 1, 0],[0, 1, 0, 1, 1, 0, 1],[0, 0, 1, 1, 0, 0, 1]]\n",
    "\n",
    "code = generate_code(matrix, 2, 7)\n",
    "\n",
    "extension_code = generate_extension_code(code, 2,7)\n",
    "\n",
    "extension_code"
   ]
  },
  {
   "cell_type": "markdown",
   "metadata": {},
   "source": [
    "b."
   ]
  },
  {
   "cell_type": "code",
   "execution_count": 808,
   "metadata": {},
   "outputs": [
    {
     "name": "stdout",
     "output_type": "stream",
     "text": [
      "Los parametros son: \n",
      " n = 8, k = 8, d = 4\n"
     ]
    }
   ],
   "source": [
    "parametros = parameters(extension_code)\n",
    "print(f\"Los parametros son: \\n n = {parametros[0]}, k = {parametros[1]}, d = {parametros[2]}\")"
   ]
  },
  {
   "cell_type": "markdown",
   "metadata": {},
   "source": [
    "c."
   ]
  },
  {
   "cell_type": "code",
   "execution_count": 809,
   "metadata": {},
   "outputs": [
    {
     "data": {
      "text/plain": [
       "[[0, 0, 0, 0, 0, 0, 0],\n",
       " [0, 0, 1, 1, 0, 0, 1],\n",
       " [0, 1, 0, 1, 1, 0, 1],\n",
       " [0, 1, 1, 0, 1, 0, 0],\n",
       " [1, 0, 0, 1, 0, 1, 0],\n",
       " [1, 0, 1, 0, 0, 1, 1],\n",
       " [1, 1, 0, 0, 1, 1, 1],\n",
       " [1, 1, 1, 1, 1, 1, 0]]"
      ]
     },
     "execution_count": 809,
     "metadata": {},
     "output_type": "execute_result"
    }
   ],
   "source": [
    "codeword = generate_code(matrix, 2, 7)\n",
    "\n",
    "codeword"
   ]
  },
  {
   "cell_type": "code",
   "execution_count": 810,
   "metadata": {},
   "outputs": [
    {
     "name": "stdout",
     "output_type": "stream",
     "text": [
      "perforación 1: [[0, 0, 0, 0, 0, 0], [0, 1, 1, 0, 0, 1], [1, 0, 1, 1, 0, 1], [1, 1, 0, 1, 0, 0], [0, 0, 1, 0, 1, 0], [0, 1, 0, 0, 1, 1], [1, 0, 0, 1, 1, 1], [1, 1, 1, 1, 1, 0]]\n",
      "perforación 2: [[0, 0, 0, 0, 0, 0], [0, 1, 1, 0, 0, 1], [0, 0, 1, 1, 0, 1], [0, 1, 0, 1, 0, 0], [1, 0, 1, 0, 1, 0], [1, 1, 0, 0, 1, 1], [1, 0, 0, 1, 1, 1], [1, 1, 1, 1, 1, 0]]\n",
      "perforación 3: [[0, 0, 0, 0, 0, 0], [0, 0, 1, 0, 0, 1], [0, 1, 1, 1, 0, 1], [0, 1, 0, 1, 0, 0], [1, 0, 1, 0, 1, 0], [1, 0, 0, 0, 1, 1], [1, 1, 0, 1, 1, 1], [1, 1, 1, 1, 1, 0]]\n"
     ]
    }
   ],
   "source": [
    "for i in range(3):\n",
    "    print(f\"perforación {i+1}: {perforation(codeword, i)}\")"
   ]
  },
  {
   "cell_type": "markdown",
   "metadata": {},
   "source": [
    "d."
   ]
  },
  {
   "cell_type": "code",
   "execution_count": 811,
   "metadata": {},
   "outputs": [
    {
     "name": "stdout",
     "output_type": "stream",
     "text": [
      "reducción 1: [[0, 0, 0, 0, 0, 0], [0, 1, 1, 0, 0, 1], [1, 0, 1, 1, 0, 1], [1, 1, 0, 1, 0, 0]]\n",
      "reducción 2: [[0, 0, 0, 0, 0, 0], [0, 1, 1, 0, 0, 1], [1, 0, 1, 0, 1, 0], [1, 1, 0, 0, 1, 1]]\n",
      "reducción 3: [[0, 0, 0, 0, 0, 0], [0, 1, 1, 1, 0, 1], [1, 0, 1, 0, 1, 0], [1, 1, 0, 1, 1, 1]]\n"
     ]
    }
   ],
   "source": [
    "for i in range(3):\n",
    "    print(f\"reducción {i+1}: {reduction(codeword, i)}\")"
   ]
  },
  {
   "cell_type": "markdown",
   "metadata": {},
   "source": [
    "e."
   ]
  },
  {
   "cell_type": "code",
   "execution_count": 812,
   "metadata": {},
   "outputs": [
    {
     "name": "stdout",
     "output_type": "stream",
     "text": [
      "La matriz de control es:\n",
      "[1, 1, 1, 1, 0, 0, 0]\n",
      "[0, 1, 0, 0, 1, 0, 0]\n",
      "[1, 0, 0, 0, 0, 1, 0]\n",
      "[0, 1, 1, 0, 0, 0, 1]\n"
     ]
    }
   ],
   "source": [
    "H_matrix = matrix_control(matrix)\n",
    "print(\"La matriz de control es:\")\n",
    "for row in H_matrix:\n",
    "    print(row)"
   ]
  },
  {
   "cell_type": "markdown",
   "metadata": {},
   "source": [
    "f."
   ]
  },
  {
   "cell_type": "code",
   "execution_count": 813,
   "metadata": {},
   "outputs": [
    {
     "name": "stdout",
     "output_type": "stream",
     "text": [
      "Error: [0, 0, 0, 0, 0, 0, 0] Sindrome: [0, 0, 0, 0]\n",
      "Error: [0, 0, 0, 0, 0, 0, 1] Sindrome: [0, 0, 0, 1]\n",
      "Error: [0, 0, 0, 0, 0, 1, 0] Sindrome: [0, 0, 1, 0]\n",
      "Error: [0, 0, 0, 0, 1, 0, 0] Sindrome: [0, 1, 0, 0]\n",
      "Error: [0, 0, 0, 1, 0, 0, 0] Sindrome: [1, 0, 0, 0]\n",
      "Error: [0, 0, 1, 0, 0, 0, 0] Sindrome: [1, 0, 0, 1]\n",
      "Error: [0, 1, 0, 0, 0, 0, 0] Sindrome: [1, 1, 0, 1]\n",
      "Error: [1, 0, 0, 0, 0, 0, 0] Sindrome: [1, 0, 1, 0]\n",
      "Error: [0, 0, 0, 0, 0, 1, 1] Sindrome: [0, 0, 1, 1]\n",
      "Error: [0, 0, 0, 0, 1, 0, 1] Sindrome: [0, 1, 0, 1]\n",
      "Error: [0, 0, 0, 0, 1, 1, 0] Sindrome: [0, 1, 1, 0]\n",
      "Error: [0, 0, 0, 1, 1, 0, 0] Sindrome: [1, 1, 0, 0]\n",
      "Error: [0, 0, 1, 0, 0, 1, 0] Sindrome: [1, 0, 1, 1]\n",
      "Error: [0, 1, 0, 0, 0, 1, 0] Sindrome: [1, 1, 1, 1]\n",
      "Error: [1, 0, 0, 0, 1, 0, 0] Sindrome: [1, 1, 1, 0]\n",
      "Error: [1, 1, 0, 0, 0, 0, 0] Sindrome: [0, 1, 1, 1]\n"
     ]
    }
   ],
   "source": [
    "errors = [\n",
    "    [0, 0, 0, 0, 0, 0, 0],\n",
    "    [0, 0, 0, 0, 0, 0, 1],\n",
    "    [0, 0, 0, 0, 0, 1, 0],\n",
    "    [0, 0, 0, 0, 1, 0, 0],\n",
    "    [0, 0, 0, 1, 0, 0, 0],\n",
    "    [0, 0, 1, 0, 0, 0, 0],\n",
    "    [0, 1, 0, 0, 0, 0, 0],\n",
    "    [1, 0, 0, 0, 0, 0, 0],\n",
    "    [0, 0, 0, 0, 0, 1, 1],\n",
    "    [0, 0, 0, 0, 1, 0, 1],\n",
    "    [0, 0, 0, 0, 1, 1, 0],\n",
    "    [0, 0, 0, 1, 1, 0, 0],\n",
    "    [0, 0, 1, 0, 0, 1, 0],\n",
    "    [0, 1, 0, 0, 0, 1, 0],\n",
    "    [1, 0, 0, 0, 1, 0, 0],\n",
    "    [1, 1, 0, 0, 0, 0, 0]\n",
    "]\n",
    "\n",
    "# Multiplicación de matrices\n",
    "resultados = []\n",
    "for sublist in errors:\n",
    "    resultado = [(sum(a * b for a, b in zip(row, sublist))) % 2 for row in H_matrix]\n",
    "    resultados.append(resultado)\n",
    "\n",
    "i = 0\n",
    "for n in resultados:\n",
    "    print(f\"Error: {errors[i]} Sindrome: {n}\")\n",
    "    i += 1"
   ]
  },
  {
   "cell_type": "code",
   "execution_count": 814,
   "metadata": {},
   "outputs": [
    {
     "name": "stdout",
     "output_type": "stream",
     "text": [
      "H.v = [1, 1, 0, 1]\n"
     ]
    }
   ],
   "source": [
    "matrix = [\n",
    "    [1, 1, 1, 1, 0, 0, 0],\n",
    "    [0, 1, 0, 0, 1, 0, 0],\n",
    "    [1, 0, 0, 0, 0, 1, 0],\n",
    "    [0, 1, 1, 0, 0, 0, 1]\n",
    "]\n",
    "vector = [1, 1, 1, 0, 0, 1, 1]\n",
    "\n",
    "result = [sum(matrix_row[i] * vector[i] for i in range(len(vector))) % 2 for matrix_row in matrix]\n",
    "\n",
    "print(f'H.v = {result}')\n"
   ]
  },
  {
   "cell_type": "code",
   "execution_count": 815,
   "metadata": {},
   "outputs": [
    {
     "name": "stdout",
     "output_type": "stream",
     "text": [
      "Palabra decodificada = [1, 0, 1, 0, 0, 1, 1]\n"
     ]
    }
   ],
   "source": [
    "error = [0, 1, 0, 0, 0, 0, 0]\n",
    "code = [1, 1, 1, 0, 0, 1, 1]\n",
    "\n",
    "sum_result = [((a + b) % 2) for a, b in zip(error, code)]\n",
    "\n",
    "print(\"Palabra decodificada =\", sum_result)"
   ]
  }
 ],
 "metadata": {
  "kernelspec": {
   "display_name": "Python 3",
   "language": "python",
   "name": "python3"
  },
  "language_info": {
   "codemirror_mode": {
    "name": "ipython",
    "version": 3
   },
   "file_extension": ".py",
   "mimetype": "text/x-python",
   "name": "python",
   "nbconvert_exporter": "python",
   "pygments_lexer": "ipython3",
   "version": "3.11.2"
  }
 },
 "nbformat": 4,
 "nbformat_minor": 2
}
