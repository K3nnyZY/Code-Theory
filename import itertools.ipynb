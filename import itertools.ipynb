{
 "cells": [
  {
   "cell_type": "markdown",
   "metadata": {},
   "source": [
    "# CÓDIGO ISIN"
   ]
  },
  {
   "cell_type": "code",
   "execution_count": 9,
   "metadata": {},
   "outputs": [],
   "source": [
    "# Primero, definimos la función sum_digits para sumar los dígitos de un número.\n",
    "def sum_digits(number):\n",
    "    return sum(int(digit) for digit in str(number))\n",
    "\n",
    "# Definimos la función letter_to_value para convertir letras a su valor numérico correspondiente (A=10, ..., Z=35).\n",
    "def letter_to_value(letter):\n",
    "    return ord(letter.upper()) - 55"
   ]
  },
  {
   "cell_type": "code",
   "execution_count": 10,
   "metadata": {},
   "outputs": [],
   "source": [
    "def isin(isin):\n",
    "\n",
    "    numeric_values = []  # Para almacenar los valores numéricos del codigo ISIN\n",
    "\n",
    "    # Convertir cada caracter del ISIN a su valor numérico y aplicar la regla de duplicar cada segundo número empezando desde la derecha.\n",
    "    for char in isin:\n",
    "        if char.isdigit():\n",
    "            numeric_values.append(int(char))\n",
    "        else:   \n",
    "            numeric_value = letter_to_value(char)\n",
    "        \n",
    "            # Aquí nos aseguramos de descomponer el valor numérico en sus dígitos individuales si es mayor a 9\n",
    "            if numeric_value > 9:\n",
    "                numeric_values.extend(divmod(numeric_value, 10))\n",
    "            else:\n",
    "                numeric_values.append(numeric_value)\n",
    "\n",
    "    # Duplicar cada segundo número empezando desde la derecha y suma los dígitos de los números mayores a 9\n",
    "    double_numeric_values = [sum_digits(numeric_values[i] * 2) if i % 2 == 0 and numeric_values[i] * 2 > 9 else\n",
    "                       numeric_values[i] * 2 if i % 2 == 0 else numeric_values[i] for i in range(len(numeric_values))]\n",
    "    \n",
    "    # Sumar todos los valores numéricos\n",
    "    numeric_value = sum(double_numeric_values)\n",
    "\n",
    "    is_valid_isin = numeric_value % 10 == 0\n",
    "\n",
    "    # Si la suma total no es un múltiplo de 10, buscar la cifra de control.\n",
    "    control_digit = None\n",
    "    if not is_valid_isin:\n",
    "        for x in range(10):\n",
    "            if (numeric_value + x) % 10 == 0:\n",
    "                control_digit = x\n",
    "                break\n",
    "\n",
    "    return numeric_values, double_numeric_values, numeric_value, is_valid_isin, control_digit"
   ]
  },
  {
   "cell_type": "markdown",
   "metadata": {},
   "source": [
    "### Punto 1"
   ]
  },
  {
   "cell_type": "code",
   "execution_count": 11,
   "metadata": {},
   "outputs": [],
   "source": [
    "# Aplicamos la función al ISIN proporcionado\n",
    "isin_example = \"US7960502018\"\n",
    "numeric_values, double_numeric_values, numeric_value, validate_isin, control_digit = isin(isin_example)"
   ]
  },
  {
   "cell_type": "code",
   "execution_count": 12,
   "metadata": {},
   "outputs": [
    {
     "name": "stdout",
     "output_type": "stream",
     "text": [
      "ISIN: US7960502018\n",
      "EL valor numero de la ISIN: [3, 0, 2, 8, 7, 9, 6, 0, 5, 0, 2, 0, 1, 8]\n",
      "Valor calculado numerico de la ISIN: [6, 0, 4, 8, 5, 9, 3, 0, 1, 0, 4, 0, 2, 8]\n",
      "Suma de los valores numericos de la ISIN es: 50\n",
      "Validación de ISIN: True\n"
     ]
    }
   ],
   "source": [
    "print(f\"ISIN: {isin_example}\")\n",
    "print(f\"EL valor numero de la ISIN: {numeric_values}\")\n",
    "print(f\"Valor calculado numerico de la ISIN: {double_numeric_values}\")\n",
    "print(f\"Suma de los valores numericos de la ISIN es: {numeric_value}\")\n",
    "print(f\"Validación de ISIN: {validate_isin}\")"
   ]
  },
  {
   "cell_type": "markdown",
   "metadata": {},
   "source": [
    "### Punto 2"
   ]
  },
  {
   "cell_type": "code",
   "execution_count": 13,
   "metadata": {},
   "outputs": [],
   "source": [
    "# Aplicamos la función al ISIN proporcionado\n",
    "isin_example = \"NL001158514X\"[:-1]\n",
    "numeric_values, double_numeric_vaues, numeric_value, validate_isin, control_digit = isin(isin_example)"
   ]
  },
  {
   "cell_type": "code",
   "execution_count": 14,
   "metadata": {},
   "outputs": [
    {
     "name": "stdout",
     "output_type": "stream",
     "text": [
      "ISIN: NL001158514\n",
      "EL valor numero de la ISIN: [2, 3, 2, 1, 0, 0, 1, 1, 5, 8, 5, 1, 4]\n",
      "Valor calculado numerico de la ISIN: [6, 0, 4, 8, 5, 9, 3, 0, 1, 0, 4, 0, 2, 8]\n",
      "Suma de los valores numericos de la ISIN es: 34\n",
      "Validación de ISIN: False\n",
      "Cifra de control de la ISIN X es: 6\n"
     ]
    }
   ],
   "source": [
    "print(f\"ISIN: {isin_example}\")\n",
    "print(f\"EL valor numero de la ISIN: {numeric_values}\")\n",
    "print(f\"Valor calculado numerico de la ISIN: {double_numeric_values}\")\n",
    "print(f\"Suma de los valores numericos de la ISIN es: {numeric_value}\")\n",
    "print(f\"Validación de ISIN: {validate_isin}\")\n",
    "print(f\"Cifra de control de la ISIN X es: {control_digit}\")"
   ]
  },
  {
   "cell_type": "markdown",
   "metadata": {},
   "source": [
    "# EAN-13"
   ]
  },
  {
   "cell_type": "code",
   "execution_count": 15,
   "metadata": {},
   "outputs": [],
   "source": [
    "def EAN13(isin):\n",
    "\n",
    "    numeric_values = []  # Para almacenar los valores numéricos del codigo ISIN\n",
    "\n",
    "    # Convertir cada caracter del ISIN a su valor numérico y aplicar la regla de duplicar cada segundo número empezando desde la derecha.\n",
    "    for char in isin:\n",
    "        if char.isdigit():\n",
    "            numeric_values.append(int(char))\n",
    "        else:   \n",
    "            numeric_value = letter_to_value(char)\n",
    "\n",
    "    # Duplicar cada segundo número empezando desde la derecha y suma los dígitos de los números mayores a 9\n",
    "    triple_values = [numeric_values[i] * 3 if i % 2 == 1 else numeric_values[i] for i in range(len(numeric_values))]\n",
    "    \n",
    "    # Sumar todos los valores numéricos\n",
    "    numeric_value = sum(triple_values)\n",
    "\n",
    "    is_valid_isin = numeric_value % 10 == 0\n",
    "\n",
    "    # Si la suma total no es un múltiplo de 10, buscar la cifra de control.\n",
    "    control_digit = None\n",
    "    if not is_valid_isin:\n",
    "        for x in range(10):\n",
    "            if (numeric_value + x) % 10 == 0:\n",
    "                control_digit = x\n",
    "                break\n",
    "\n",
    "    return numeric_values, triple_values, numeric_value, is_valid_isin, control_digit"
   ]
  },
  {
   "cell_type": "code",
   "execution_count": 16,
   "metadata": {},
   "outputs": [],
   "source": [
    "EAN13_example = \"490277891397X\"[:-1]\n",
    "numeric_values, triple_values, numeric_value, validate_isin, control_digit = EAN13(EAN13_example)"
   ]
  },
  {
   "cell_type": "code",
   "execution_count": 17,
   "metadata": {},
   "outputs": [
    {
     "name": "stdout",
     "output_type": "stream",
     "text": [
      "EAN13: 490277891397\n",
      "EL valor numero de la EAN13: [4, 9, 0, 2, 7, 7, 8, 9, 1, 3, 9, 7]\n",
      "Valor calculado numerico de la EAN13: [4, 27, 0, 6, 7, 21, 8, 27, 1, 9, 9, 21]\n",
      "Suma de los valores numericos de la EAN13 es: 140\n",
      "Validación de EAN13: True\n",
      "Cifra de control de la EAN13 X es: None\n"
     ]
    }
   ],
   "source": [
    "print(f\"EAN13: {EAN13_example}\")\n",
    "print(f\"EL valor numero de la EAN13: {numeric_values}\")\n",
    "print(f\"Valor calculado numerico de la EAN13: {triple_values}\")\n",
    "print(f\"Suma de los valores numericos de la EAN13 es: {numeric_value}\")\n",
    "print(f\"Validación de EAN13: {validate_isin}\")\n",
    "print(f\"Cifra de control de la EAN13 X es: {control_digit}\")"
   ]
  }
 ],
 "metadata": {
  "kernelspec": {
   "display_name": "Python 3",
   "language": "python",
   "name": "python3"
  },
  "language_info": {
   "codemirror_mode": {
    "name": "ipython",
    "version": 3
   },
   "file_extension": ".py",
   "mimetype": "text/x-python",
   "name": "python",
   "nbconvert_exporter": "python",
   "pygments_lexer": "ipython3",
   "version": "3.11.2"
  }
 },
 "nbformat": 4,
 "nbformat_minor": 2
}
